{
 "cells": [
  {
   "cell_type": "code",
   "execution_count": 51,
   "id": "afe2931d",
   "metadata": {
    "pycharm": {
     "name": "#%%\n"
    }
   },
   "outputs": [],
   "source": [
    "import pandas as pd\n",
    "import numpy as np\n",
    "import matplotlib.pyplot as plt\n",
    "import seaborn as sns\n",
    "import warnings\n",
    "warnings.filterwarnings(\"ignore\")"
   ]
  },
  {
   "cell_type": "markdown",
   "id": "a3ed1ec2",
   "metadata": {
    "pycharm": {
     "name": "#%% md\n"
    }
   },
   "source": [
    "# Starting the fact challenge table"
   ]
  },
  {
   "cell_type": "code",
   "execution_count": 52,
   "id": "ca2dc933",
   "metadata": {
    "pycharm": {
     "name": "#%%\n"
    }
   },
   "outputs": [
    {
     "data": {
      "text/plain": "(1000000, 7)"
     },
     "execution_count": 52,
     "metadata": {},
     "output_type": "execute_result"
    }
   ],
   "source": [
    "fact_challenge = pd.read_csv(\"fact_challenge.csv\", nrows=1000000)\n",
    "fact_challenge.shape"
   ]
  },
  {
   "cell_type": "code",
   "execution_count": 53,
   "id": "ace982a9",
   "metadata": {
    "pycharm": {
     "name": "#%%\n"
    }
   },
   "outputs": [
    {
     "data": {
      "text/plain": "          event                 event_ts  user_id  challenge_id  \\\n0  assign_color  1980-10-11 02:14:00.498     2690             0   \n1  assign_color  1980-10-11 02:13:40.199     2690             0   \n2  assign_color  1980-10-11 02:13:52.558     2690             0   \n3  assign_color  1980-10-11 02:13:47.760     2690             0   \n4  assign_color  1980-10-11 02:13:43.513     2690             0   \n\n   challenge_object_count  color_id  item_id  \n0                    10.0      3191        1  \n1                    10.0      1560        5  \n2                    10.0       816       18  \n3                    10.0      2799       21  \n4                    10.0       770       23  ",
      "text/html": "<div>\n<style scoped>\n    .dataframe tbody tr th:only-of-type {\n        vertical-align: middle;\n    }\n\n    .dataframe tbody tr th {\n        vertical-align: top;\n    }\n\n    .dataframe thead th {\n        text-align: right;\n    }\n</style>\n<table border=\"1\" class=\"dataframe\">\n  <thead>\n    <tr style=\"text-align: right;\">\n      <th></th>\n      <th>event</th>\n      <th>event_ts</th>\n      <th>user_id</th>\n      <th>challenge_id</th>\n      <th>challenge_object_count</th>\n      <th>color_id</th>\n      <th>item_id</th>\n    </tr>\n  </thead>\n  <tbody>\n    <tr>\n      <th>0</th>\n      <td>assign_color</td>\n      <td>1980-10-11 02:14:00.498</td>\n      <td>2690</td>\n      <td>0</td>\n      <td>10.0</td>\n      <td>3191</td>\n      <td>1</td>\n    </tr>\n    <tr>\n      <th>1</th>\n      <td>assign_color</td>\n      <td>1980-10-11 02:13:40.199</td>\n      <td>2690</td>\n      <td>0</td>\n      <td>10.0</td>\n      <td>1560</td>\n      <td>5</td>\n    </tr>\n    <tr>\n      <th>2</th>\n      <td>assign_color</td>\n      <td>1980-10-11 02:13:52.558</td>\n      <td>2690</td>\n      <td>0</td>\n      <td>10.0</td>\n      <td>816</td>\n      <td>18</td>\n    </tr>\n    <tr>\n      <th>3</th>\n      <td>assign_color</td>\n      <td>1980-10-11 02:13:47.760</td>\n      <td>2690</td>\n      <td>0</td>\n      <td>10.0</td>\n      <td>2799</td>\n      <td>21</td>\n    </tr>\n    <tr>\n      <th>4</th>\n      <td>assign_color</td>\n      <td>1980-10-11 02:13:43.513</td>\n      <td>2690</td>\n      <td>0</td>\n      <td>10.0</td>\n      <td>770</td>\n      <td>23</td>\n    </tr>\n  </tbody>\n</table>\n</div>"
     },
     "execution_count": 53,
     "metadata": {},
     "output_type": "execute_result"
    }
   ],
   "source": [
    "fact_challenge.head()"
   ]
  },
  {
   "cell_type": "code",
   "execution_count": 54,
   "id": "b7897fb1",
   "metadata": {
    "pycharm": {
     "name": "#%%\n"
    }
   },
   "outputs": [
    {
     "data": {
      "text/plain": "              user_id    challenge_id  challenge_object_count        color_id  \\\ncount  1000000.000000  1000000.000000           995776.000000  1000000.000000   \nmean     90962.884620       55.447107               12.758792     1557.513994   \nstd      53000.092901       34.565292                2.445460     1029.402597   \nmin       2690.000000        0.000000                5.000000        0.000000   \n25%      43581.000000       14.000000               11.000000      816.000000   \n50%      89198.000000       72.000000               12.000000     1381.000000   \n75%     137434.000000       83.000000               15.000000     2338.000000   \nmax     183579.000000       96.000000               19.000000     3535.000000   \n\n              item_id  \ncount  1000000.000000  \nmean        17.919371  \nstd         11.813290  \nmin          0.000000  \n25%          5.000000  \n50%         21.000000  \n75%         27.000000  \nmax         52.000000  ",
      "text/html": "<div>\n<style scoped>\n    .dataframe tbody tr th:only-of-type {\n        vertical-align: middle;\n    }\n\n    .dataframe tbody tr th {\n        vertical-align: top;\n    }\n\n    .dataframe thead th {\n        text-align: right;\n    }\n</style>\n<table border=\"1\" class=\"dataframe\">\n  <thead>\n    <tr style=\"text-align: right;\">\n      <th></th>\n      <th>user_id</th>\n      <th>challenge_id</th>\n      <th>challenge_object_count</th>\n      <th>color_id</th>\n      <th>item_id</th>\n    </tr>\n  </thead>\n  <tbody>\n    <tr>\n      <th>count</th>\n      <td>1000000.000000</td>\n      <td>1000000.000000</td>\n      <td>995776.000000</td>\n      <td>1000000.000000</td>\n      <td>1000000.000000</td>\n    </tr>\n    <tr>\n      <th>mean</th>\n      <td>90962.884620</td>\n      <td>55.447107</td>\n      <td>12.758792</td>\n      <td>1557.513994</td>\n      <td>17.919371</td>\n    </tr>\n    <tr>\n      <th>std</th>\n      <td>53000.092901</td>\n      <td>34.565292</td>\n      <td>2.445460</td>\n      <td>1029.402597</td>\n      <td>11.813290</td>\n    </tr>\n    <tr>\n      <th>min</th>\n      <td>2690.000000</td>\n      <td>0.000000</td>\n      <td>5.000000</td>\n      <td>0.000000</td>\n      <td>0.000000</td>\n    </tr>\n    <tr>\n      <th>25%</th>\n      <td>43581.000000</td>\n      <td>14.000000</td>\n      <td>11.000000</td>\n      <td>816.000000</td>\n      <td>5.000000</td>\n    </tr>\n    <tr>\n      <th>50%</th>\n      <td>89198.000000</td>\n      <td>72.000000</td>\n      <td>12.000000</td>\n      <td>1381.000000</td>\n      <td>21.000000</td>\n    </tr>\n    <tr>\n      <th>75%</th>\n      <td>137434.000000</td>\n      <td>83.000000</td>\n      <td>15.000000</td>\n      <td>2338.000000</td>\n      <td>27.000000</td>\n    </tr>\n    <tr>\n      <th>max</th>\n      <td>183579.000000</td>\n      <td>96.000000</td>\n      <td>19.000000</td>\n      <td>3535.000000</td>\n      <td>52.000000</td>\n    </tr>\n  </tbody>\n</table>\n</div>"
     },
     "execution_count": 54,
     "metadata": {},
     "output_type": "execute_result"
    }
   ],
   "source": [
    "fact_challenge.describe()"
   ]
  },
  {
   "cell_type": "code",
   "execution_count": 55,
   "id": "49800543",
   "metadata": {
    "pycharm": {
     "name": "#%%\n"
    }
   },
   "outputs": [
    {
     "data": {
      "text/plain": "<AxesSubplot:>"
     },
     "execution_count": 55,
     "metadata": {},
     "output_type": "execute_result"
    },
    {
     "data": {
      "text/plain": "<Figure size 432x288 with 1 Axes>",
      "image/png": "[encoded data removed]"
     },
     "metadata": {
      "needs_background": "light"
     },
     "output_type": "display_data"
    }
   ],
   "source": [
    "values = fact_challenge[\"challenge_id\"].value_counts()\n",
    "values.hist()"
   ]
  },
  {
   "cell_type": "code",
   "execution_count": 56,
   "id": "667135e8",
   "metadata": {
    "pycharm": {
     "name": "#%%\n"
    }
   },
   "outputs": [
    {
     "data": {
      "text/plain": "(995776, 7)"
     },
     "execution_count": 56,
     "metadata": {},
     "output_type": "execute_result"
    }
   ],
   "source": [
    "fact_challenge.isnull().sum().sum()\n",
    "fact_challenge = fact_challenge.dropna()\n",
    "fact_challenge.shape"
   ]
  },
  {
   "cell_type": "code",
   "execution_count": 57,
   "id": "c50b8841",
   "metadata": {
    "pycharm": {
     "name": "#%%\n"
    }
   },
   "outputs": [],
   "source": [
    "assign_color_df = fact_challenge.loc[fact_challenge['event'] == \"assign_color\"]\n",
    "assign_color_df = assign_color_df.drop([\"event\"], axis=1)"
   ]
  },
  {
   "cell_type": "code",
   "execution_count": 58,
   "id": "544a50ff",
   "metadata": {
    "pycharm": {
     "name": "#%%\n"
    }
   },
   "outputs": [
    {
     "data": {
      "text/plain": "                  event_ts  user_id  challenge_id  challenge_object_count  \\\n0  1980-10-11 02:14:00.498     2690             0                    10.0   \n1  1980-10-11 02:13:40.199     2690             0                    10.0   \n2  1980-10-11 02:13:52.558     2690             0                    10.0   \n3  1980-10-11 02:13:47.760     2690             0                    10.0   \n4  1980-10-11 02:13:43.513     2690             0                    10.0   \n\n   color_id  item_id  \n0      3191        1  \n1      1560        5  \n2       816       18  \n3      2799       21  \n4       770       23  ",
      "text/html": "<div>\n<style scoped>\n    .dataframe tbody tr th:only-of-type {\n        vertical-align: middle;\n    }\n\n    .dataframe tbody tr th {\n        vertical-align: top;\n    }\n\n    .dataframe thead th {\n        text-align: right;\n    }\n</style>\n<table border=\"1\" class=\"dataframe\">\n  <thead>\n    <tr style=\"text-align: right;\">\n      <th></th>\n      <th>event_ts</th>\n      <th>user_id</th>\n      <th>challenge_id</th>\n      <th>challenge_object_count</th>\n      <th>color_id</th>\n      <th>item_id</th>\n    </tr>\n  </thead>\n  <tbody>\n    <tr>\n      <th>0</th>\n      <td>1980-10-11 02:14:00.498</td>\n      <td>2690</td>\n      <td>0</td>\n      <td>10.0</td>\n      <td>3191</td>\n      <td>1</td>\n    </tr>\n    <tr>\n      <th>1</th>\n      <td>1980-10-11 02:13:40.199</td>\n      <td>2690</td>\n      <td>0</td>\n      <td>10.0</td>\n      <td>1560</td>\n      <td>5</td>\n    </tr>\n    <tr>\n      <th>2</th>\n      <td>1980-10-11 02:13:52.558</td>\n      <td>2690</td>\n      <td>0</td>\n      <td>10.0</td>\n      <td>816</td>\n      <td>18</td>\n    </tr>\n    <tr>\n      <th>3</th>\n      <td>1980-10-11 02:13:47.760</td>\n      <td>2690</td>\n      <td>0</td>\n      <td>10.0</td>\n      <td>2799</td>\n      <td>21</td>\n    </tr>\n    <tr>\n      <th>4</th>\n      <td>1980-10-11 02:13:43.513</td>\n      <td>2690</td>\n      <td>0</td>\n      <td>10.0</td>\n      <td>770</td>\n      <td>23</td>\n    </tr>\n  </tbody>\n</table>\n</div>"
     },
     "execution_count": 58,
     "metadata": {},
     "output_type": "execute_result"
    }
   ],
   "source": [
    "assign_color_df.head()"
   ]
  },
  {
   "cell_type": "code",
   "execution_count": 59,
   "id": "2c522730",
   "metadata": {
    "pycharm": {
     "name": "#%%\n"
    }
   },
   "outputs": [
    {
     "data": {
      "text/plain": "   user_id  challenge_id  color_id  item_id\n0     2690             0      3191        1\n1     2690             0      1560        5\n2     2690             0       816       18\n3     2690             0      2799       21\n4     2690             0       770       23",
      "text/html": "<div>\n<style scoped>\n    .dataframe tbody tr th:only-of-type {\n        vertical-align: middle;\n    }\n\n    .dataframe tbody tr th {\n        vertical-align: top;\n    }\n\n    .dataframe thead th {\n        text-align: right;\n    }\n</style>\n<table border=\"1\" class=\"dataframe\">\n  <thead>\n    <tr style=\"text-align: right;\">\n      <th></th>\n      <th>user_id</th>\n      <th>challenge_id</th>\n      <th>color_id</th>\n      <th>item_id</th>\n    </tr>\n  </thead>\n  <tbody>\n    <tr>\n      <th>0</th>\n      <td>2690</td>\n      <td>0</td>\n      <td>3191</td>\n      <td>1</td>\n    </tr>\n    <tr>\n      <th>1</th>\n      <td>2690</td>\n      <td>0</td>\n      <td>1560</td>\n      <td>5</td>\n    </tr>\n    <tr>\n      <th>2</th>\n      <td>2690</td>\n      <td>0</td>\n      <td>816</td>\n      <td>18</td>\n    </tr>\n    <tr>\n      <th>3</th>\n      <td>2690</td>\n      <td>0</td>\n      <td>2799</td>\n      <td>21</td>\n    </tr>\n    <tr>\n      <th>4</th>\n      <td>2690</td>\n      <td>0</td>\n      <td>770</td>\n      <td>23</td>\n    </tr>\n  </tbody>\n</table>\n</div>"
     },
     "execution_count": 59,
     "metadata": {},
     "output_type": "execute_result"
    }
   ],
   "source": [
    "assign_color_df = assign_color_df.drop([\"event_ts\", \"challenge_object_count\"], axis=1)\n",
    "assign_color_df.head()"
   ]
  },
  {
   "cell_type": "code",
   "execution_count": 60,
   "id": "e07ced34",
   "metadata": {
    "pycharm": {
     "name": "#%%\n"
    }
   },
   "outputs": [
    {
     "data": {
      "text/plain": "        user_id  challenge_id  color_id  item_id\n0          2690             0      3191        1\n1          2690             0      1560        5\n2          2690             0       816       18\n3          2690             0      2799       21\n4          2690             0       770       23\n...         ...           ...       ...      ...\n999995   183579            12      3507       33\n999996   183579            14       140        1\n999997   183579            14      1725        3\n999998   183579            14      3474        5\n999999   183579            14      3102        7\n\n[923611 rows x 4 columns]",
      "text/html": "<div>\n<style scoped>\n    .dataframe tbody tr th:only-of-type {\n        vertical-align: middle;\n    }\n\n    .dataframe tbody tr th {\n        vertical-align: top;\n    }\n\n    .dataframe thead th {\n        text-align: right;\n    }\n</style>\n<table border=\"1\" class=\"dataframe\">\n  <thead>\n    <tr style=\"text-align: right;\">\n      <th></th>\n      <th>user_id</th>\n      <th>challenge_id</th>\n      <th>color_id</th>\n      <th>item_id</th>\n    </tr>\n  </thead>\n  <tbody>\n    <tr>\n      <th>0</th>\n      <td>2690</td>\n      <td>0</td>\n      <td>3191</td>\n      <td>1</td>\n    </tr>\n    <tr>\n      <th>1</th>\n      <td>2690</td>\n      <td>0</td>\n      <td>1560</td>\n      <td>5</td>\n    </tr>\n    <tr>\n      <th>2</th>\n      <td>2690</td>\n      <td>0</td>\n      <td>816</td>\n      <td>18</td>\n    </tr>\n    <tr>\n      <th>3</th>\n      <td>2690</td>\n      <td>0</td>\n      <td>2799</td>\n      <td>21</td>\n    </tr>\n    <tr>\n      <th>4</th>\n      <td>2690</td>\n      <td>0</td>\n      <td>770</td>\n      <td>23</td>\n    </tr>\n    <tr>\n      <th>...</th>\n      <td>...</td>\n      <td>...</td>\n      <td>...</td>\n      <td>...</td>\n    </tr>\n    <tr>\n      <th>999995</th>\n      <td>183579</td>\n      <td>12</td>\n      <td>3507</td>\n      <td>33</td>\n    </tr>\n    <tr>\n      <th>999996</th>\n      <td>183579</td>\n      <td>14</td>\n      <td>140</td>\n      <td>1</td>\n    </tr>\n    <tr>\n      <th>999997</th>\n      <td>183579</td>\n      <td>14</td>\n      <td>1725</td>\n      <td>3</td>\n    </tr>\n    <tr>\n      <th>999998</th>\n      <td>183579</td>\n      <td>14</td>\n      <td>3474</td>\n      <td>5</td>\n    </tr>\n    <tr>\n      <th>999999</th>\n      <td>183579</td>\n      <td>14</td>\n      <td>3102</td>\n      <td>7</td>\n    </tr>\n  </tbody>\n</table>\n<p>923611 rows × 4 columns</p>\n</div>"
     },
     "execution_count": 60,
     "metadata": {},
     "output_type": "execute_result"
    }
   ],
   "source": [
    "assign_color_df"
   ]
  },
  {
   "cell_type": "code",
   "execution_count": 61,
   "id": "91594f89",
   "metadata": {
    "pycharm": {
     "name": "#%%\n"
    }
   },
   "outputs": [
    {
     "data": {
      "text/plain": "   user_id  challenge_id  color_id  item_id\n0     2690             0      3191        1\n1     2690             0      1560        5\n2     2690             0       816       18\n3     2690             0      2799       21\n4     2690             0       770       23",
      "text/html": "<div>\n<style scoped>\n    .dataframe tbody tr th:only-of-type {\n        vertical-align: middle;\n    }\n\n    .dataframe tbody tr th {\n        vertical-align: top;\n    }\n\n    .dataframe thead th {\n        text-align: right;\n    }\n</style>\n<table border=\"1\" class=\"dataframe\">\n  <thead>\n    <tr style=\"text-align: right;\">\n      <th></th>\n      <th>user_id</th>\n      <th>challenge_id</th>\n      <th>color_id</th>\n      <th>item_id</th>\n    </tr>\n  </thead>\n  <tbody>\n    <tr>\n      <th>0</th>\n      <td>2690</td>\n      <td>0</td>\n      <td>3191</td>\n      <td>1</td>\n    </tr>\n    <tr>\n      <th>1</th>\n      <td>2690</td>\n      <td>0</td>\n      <td>1560</td>\n      <td>5</td>\n    </tr>\n    <tr>\n      <th>2</th>\n      <td>2690</td>\n      <td>0</td>\n      <td>816</td>\n      <td>18</td>\n    </tr>\n    <tr>\n      <th>3</th>\n      <td>2690</td>\n      <td>0</td>\n      <td>2799</td>\n      <td>21</td>\n    </tr>\n    <tr>\n      <th>4</th>\n      <td>2690</td>\n      <td>0</td>\n      <td>770</td>\n      <td>23</td>\n    </tr>\n  </tbody>\n</table>\n</div>"
     },
     "execution_count": 61,
     "metadata": {},
     "output_type": "execute_result"
    }
   ],
   "source": [
    "assign_color_df.head()"
   ]
  },
  {
   "cell_type": "code",
   "execution_count": 62,
   "id": "a0ce3876",
   "metadata": {
    "pycharm": {
     "name": "#%%\n"
    }
   },
   "outputs": [
    {
     "data": {
      "text/plain": "        user_id  challenge_id  color_id  item_id\n4293       3306            15       706       29\n20237      5895             0       706       33\n20293      5895             5       706        7\n71730     11730             5       706        7\n76642     12741             5       706        7\n83156     14234             5       706        7\n88058     15169            14       706        5\n97552     17050            92       706        7\n122813    22754            92       706        7\n143014    26931            92       706        7\n160539    29906             5       706        7\n199170    35340             5       706        7\n203629    35796             5       706        7\n213511    37797            92       706        7\n286616    52648             8       706        3\n297195    54156            92       706        7\n416562    74181            92       706        7\n485766    86459            92       706        7\n500248    89235             5       706        7\n584305   105161             5       706        7\n584664   105161            92       706        7\n643763   119424             5       706        7\n643980   119424            92       706        7\n683693   126843             5       706        7\n683884   126843            92       706        7\n692642   128047             5       706        7\n733166   134171             5       706        7\n773838   141635             5       706        7\n839357   152297            92       706        7\n847649   153749             5       706        7\n848092   153749            92       706        7\n855215   154995             5       706        7\n879886   161374             5       706        7\n881017   161502            14       706        5\n891361   164183            92       706        7\n930966   171487            92       706        7\n946886   174019            79       706       23\n958739   175427            92       706        7\n988908   181399             5       706        7\n989354   181399            92       706        7",
      "text/html": "<div>\n<style scoped>\n    .dataframe tbody tr th:only-of-type {\n        vertical-align: middle;\n    }\n\n    .dataframe tbody tr th {\n        vertical-align: top;\n    }\n\n    .dataframe thead th {\n        text-align: right;\n    }\n</style>\n<table border=\"1\" class=\"dataframe\">\n  <thead>\n    <tr style=\"text-align: right;\">\n      <th></th>\n      <th>user_id</th>\n      <th>challenge_id</th>\n      <th>color_id</th>\n      <th>item_id</th>\n    </tr>\n  </thead>\n  <tbody>\n    <tr>\n      <th>4293</th>\n      <td>3306</td>\n      <td>15</td>\n      <td>706</td>\n      <td>29</td>\n    </tr>\n    <tr>\n      <th>20237</th>\n      <td>5895</td>\n      <td>0</td>\n      <td>706</td>\n      <td>33</td>\n    </tr>\n    <tr>\n      <th>20293</th>\n      <td>5895</td>\n      <td>5</td>\n      <td>706</td>\n      <td>7</td>\n    </tr>\n    <tr>\n      <th>71730</th>\n      <td>11730</td>\n      <td>5</td>\n      <td>706</td>\n      <td>7</td>\n    </tr>\n    <tr>\n      <th>76642</th>\n      <td>12741</td>\n      <td>5</td>\n      <td>706</td>\n      <td>7</td>\n    </tr>\n    <tr>\n      <th>83156</th>\n      <td>14234</td>\n      <td>5</td>\n      <td>706</td>\n      <td>7</td>\n    </tr>\n    <tr>\n      <th>88058</th>\n      <td>15169</td>\n      <td>14</td>\n      <td>706</td>\n      <td>5</td>\n    </tr>\n    <tr>\n      <th>97552</th>\n      <td>17050</td>\n      <td>92</td>\n      <td>706</td>\n      <td>7</td>\n    </tr>\n    <tr>\n      <th>122813</th>\n      <td>22754</td>\n      <td>92</td>\n      <td>706</td>\n      <td>7</td>\n    </tr>\n    <tr>\n      <th>143014</th>\n      <td>26931</td>\n      <td>92</td>\n      <td>706</td>\n      <td>7</td>\n    </tr>\n    <tr>\n      <th>160539</th>\n      <td>29906</td>\n      <td>5</td>\n      <td>706</td>\n      <td>7</td>\n    </tr>\n    <tr>\n      <th>199170</th>\n      <td>35340</td>\n      <td>5</td>\n      <td>706</td>\n      <td>7</td>\n    </tr>\n    <tr>\n      <th>203629</th>\n      <td>35796</td>\n      <td>5</td>\n      <td>706</td>\n      <td>7</td>\n    </tr>\n    <tr>\n      <th>213511</th>\n      <td>37797</td>\n      <td>92</td>\n      <td>706</td>\n      <td>7</td>\n    </tr>\n    <tr>\n      <th>286616</th>\n      <td>52648</td>\n      <td>8</td>\n      <td>706</td>\n      <td>3</td>\n    </tr>\n    <tr>\n      <th>297195</th>\n      <td>54156</td>\n      <td>92</td>\n      <td>706</td>\n      <td>7</td>\n    </tr>\n    <tr>\n      <th>416562</th>\n      <td>74181</td>\n      <td>92</td>\n      <td>706</td>\n      <td>7</td>\n    </tr>\n    <tr>\n      <th>485766</th>\n      <td>86459</td>\n      <td>92</td>\n      <td>706</td>\n      <td>7</td>\n    </tr>\n    <tr>\n      <th>500248</th>\n      <td>89235</td>\n      <td>5</td>\n      <td>706</td>\n      <td>7</td>\n    </tr>\n    <tr>\n      <th>584305</th>\n      <td>105161</td>\n      <td>5</td>\n      <td>706</td>\n      <td>7</td>\n    </tr>\n    <tr>\n      <th>584664</th>\n      <td>105161</td>\n      <td>92</td>\n      <td>706</td>\n      <td>7</td>\n    </tr>\n    <tr>\n      <th>643763</th>\n      <td>119424</td>\n      <td>5</td>\n      <td>706</td>\n      <td>7</td>\n    </tr>\n    <tr>\n      <th>643980</th>\n      <td>119424</td>\n      <td>92</td>\n      <td>706</td>\n      <td>7</td>\n    </tr>\n    <tr>\n      <th>683693</th>\n      <td>126843</td>\n      <td>5</td>\n      <td>706</td>\n      <td>7</td>\n    </tr>\n    <tr>\n      <th>683884</th>\n      <td>126843</td>\n      <td>92</td>\n      <td>706</td>\n      <td>7</td>\n    </tr>\n    <tr>\n      <th>692642</th>\n      <td>128047</td>\n      <td>5</td>\n      <td>706</td>\n      <td>7</td>\n    </tr>\n    <tr>\n      <th>733166</th>\n      <td>134171</td>\n      <td>5</td>\n      <td>706</td>\n      <td>7</td>\n    </tr>\n    <tr>\n      <th>773838</th>\n      <td>141635</td>\n      <td>5</td>\n      <td>706</td>\n      <td>7</td>\n    </tr>\n    <tr>\n      <th>839357</th>\n      <td>152297</td>\n      <td>92</td>\n      <td>706</td>\n      <td>7</td>\n    </tr>\n    <tr>\n      <th>847649</th>\n      <td>153749</td>\n      <td>5</td>\n      <td>706</td>\n      <td>7</td>\n    </tr>\n    <tr>\n      <th>848092</th>\n      <td>153749</td>\n      <td>92</td>\n      <td>706</td>\n      <td>7</td>\n    </tr>\n    <tr>\n      <th>855215</th>\n      <td>154995</td>\n      <td>5</td>\n      <td>706</td>\n      <td>7</td>\n    </tr>\n    <tr>\n      <th>879886</th>\n      <td>161374</td>\n      <td>5</td>\n      <td>706</td>\n      <td>7</td>\n    </tr>\n    <tr>\n      <th>881017</th>\n      <td>161502</td>\n      <td>14</td>\n      <td>706</td>\n      <td>5</td>\n    </tr>\n    <tr>\n      <th>891361</th>\n      <td>164183</td>\n      <td>92</td>\n      <td>706</td>\n      <td>7</td>\n    </tr>\n    <tr>\n      <th>930966</th>\n      <td>171487</td>\n      <td>92</td>\n      <td>706</td>\n      <td>7</td>\n    </tr>\n    <tr>\n      <th>946886</th>\n      <td>174019</td>\n      <td>79</td>\n      <td>706</td>\n      <td>23</td>\n    </tr>\n    <tr>\n      <th>958739</th>\n      <td>175427</td>\n      <td>92</td>\n      <td>706</td>\n      <td>7</td>\n    </tr>\n    <tr>\n      <th>988908</th>\n      <td>181399</td>\n      <td>5</td>\n      <td>706</td>\n      <td>7</td>\n    </tr>\n    <tr>\n      <th>989354</th>\n      <td>181399</td>\n      <td>92</td>\n      <td>706</td>\n      <td>7</td>\n    </tr>\n  </tbody>\n</table>\n</div>"
     },
     "execution_count": 62,
     "metadata": {},
     "output_type": "execute_result"
    }
   ],
   "source": [
    "assign_color_df.loc[assign_color_df[\"color_id\"] == 706]\n",
    "#assign_color_df[assign_color_df.loc[\"color_id\"] == 706]"
   ]
  },
  {
   "cell_type": "code",
   "execution_count": 63,
   "id": "ed221cb1",
   "metadata": {
    "pycharm": {
     "name": "#%%\n"
    }
   },
   "outputs": [
    {
     "data": {
      "text/plain": "             user_id   challenge_id       color_id        item_id\ncount  923611.000000  923611.000000  923611.000000  923611.000000\nmean    90998.942992      54.766055    1680.524033      19.331234\nstd     53032.225804      34.783700     967.929845      11.102012\nmin      2690.000000       0.000000       2.000000       0.000000\n25%     43581.000000      14.000000     828.000000       7.000000\n50%     89235.000000      71.000000    1560.000000      23.000000\n75%    137472.000000      83.000000    2415.000000      29.000000\nmax    183579.000000      96.000000    3535.000000      52.000000",
      "text/html": "<div>\n<style scoped>\n    .dataframe tbody tr th:only-of-type {\n        vertical-align: middle;\n    }\n\n    .dataframe tbody tr th {\n        vertical-align: top;\n    }\n\n    .dataframe thead th {\n        text-align: right;\n    }\n</style>\n<table border=\"1\" class=\"dataframe\">\n  <thead>\n    <tr style=\"text-align: right;\">\n      <th></th>\n      <th>user_id</th>\n      <th>challenge_id</th>\n      <th>color_id</th>\n      <th>item_id</th>\n    </tr>\n  </thead>\n  <tbody>\n    <tr>\n      <th>count</th>\n      <td>923611.000000</td>\n      <td>923611.000000</td>\n      <td>923611.000000</td>\n      <td>923611.000000</td>\n    </tr>\n    <tr>\n      <th>mean</th>\n      <td>90998.942992</td>\n      <td>54.766055</td>\n      <td>1680.524033</td>\n      <td>19.331234</td>\n    </tr>\n    <tr>\n      <th>std</th>\n      <td>53032.225804</td>\n      <td>34.783700</td>\n      <td>967.929845</td>\n      <td>11.102012</td>\n    </tr>\n    <tr>\n      <th>min</th>\n      <td>2690.000000</td>\n      <td>0.000000</td>\n      <td>2.000000</td>\n      <td>0.000000</td>\n    </tr>\n    <tr>\n      <th>25%</th>\n      <td>43581.000000</td>\n      <td>14.000000</td>\n      <td>828.000000</td>\n      <td>7.000000</td>\n    </tr>\n    <tr>\n      <th>50%</th>\n      <td>89235.000000</td>\n      <td>71.000000</td>\n      <td>1560.000000</td>\n      <td>23.000000</td>\n    </tr>\n    <tr>\n      <th>75%</th>\n      <td>137472.000000</td>\n      <td>83.000000</td>\n      <td>2415.000000</td>\n      <td>29.000000</td>\n    </tr>\n    <tr>\n      <th>max</th>\n      <td>183579.000000</td>\n      <td>96.000000</td>\n      <td>3535.000000</td>\n      <td>52.000000</td>\n    </tr>\n  </tbody>\n</table>\n</div>"
     },
     "execution_count": 63,
     "metadata": {},
     "output_type": "execute_result"
    }
   ],
   "source": [
    "assign_color_df.describe()"
   ]
  },
  {
   "cell_type": "code",
   "execution_count": 64,
   "id": "c9872381",
   "metadata": {
    "pycharm": {
     "name": "#%%\n"
    }
   },
   "outputs": [
    {
     "data": {
      "text/plain": "<Figure size 432x288 with 2 Axes>",
      "image/png": "[encoded data removed]"
     },
     "metadata": {
      "needs_background": "light"
     },
     "output_type": "display_data"
    }
   ],
   "source": [
    "corr_matrix = assign_color_df.corr()\n",
    "sns.heatmap(corr_matrix.corr(method='pearson'),annot=True)\n",
    "plt.title(\"Correlation Between Features\")\n",
    "plt.show()"
   ]
  },
  {
   "cell_type": "code",
   "execution_count": 65,
   "id": "918db882",
   "metadata": {
    "pycharm": {
     "name": "#%%\n"
    }
   },
   "outputs": [
    {
     "data": {
      "text/plain": "datetime.datetime(2018, 6, 29, 8, 15, 27, 243860)"
     },
     "execution_count": 65,
     "metadata": {},
     "output_type": "execute_result"
    }
   ],
   "source": [
    "import datetime\n",
    "date_time_str = '2018-06-29 08:15:27.243860'\n",
    "date_time_obj = datetime.datetime.strptime(date_time_str, '%Y-%m-%d %H:%M:%S.%f')\n",
    "date_time_obj"
   ]
  },
  {
   "cell_type": "code",
   "execution_count": 66,
   "id": "576a5e77",
   "metadata": {
    "pycharm": {
     "name": "#%%\n"
    }
   },
   "outputs": [
    {
     "data": {
      "text/plain": "        color_id  item_id\n0           3191        1\n1           1560        5\n2            816       18\n3           2799       21\n4            770       23\n...          ...      ...\n999995      3507       33\n999996       140        1\n999997      1725        3\n999998      3474        5\n999999      3102        7\n\n[926951 rows x 2 columns]",
      "text/html": "<div>\n<style scoped>\n    .dataframe tbody tr th:only-of-type {\n        vertical-align: middle;\n    }\n\n    .dataframe tbody tr th {\n        vertical-align: top;\n    }\n\n    .dataframe thead th {\n        text-align: right;\n    }\n</style>\n<table border=\"1\" class=\"dataframe\">\n  <thead>\n    <tr style=\"text-align: right;\">\n      <th></th>\n      <th>color_id</th>\n      <th>item_id</th>\n    </tr>\n  </thead>\n  <tbody>\n    <tr>\n      <th>0</th>\n      <td>3191</td>\n      <td>1</td>\n    </tr>\n    <tr>\n      <th>1</th>\n      <td>1560</td>\n      <td>5</td>\n    </tr>\n    <tr>\n      <th>2</th>\n      <td>816</td>\n      <td>18</td>\n    </tr>\n    <tr>\n      <th>3</th>\n      <td>2799</td>\n      <td>21</td>\n    </tr>\n    <tr>\n      <th>4</th>\n      <td>770</td>\n      <td>23</td>\n    </tr>\n    <tr>\n      <th>...</th>\n      <td>...</td>\n      <td>...</td>\n    </tr>\n    <tr>\n      <th>999995</th>\n      <td>3507</td>\n      <td>33</td>\n    </tr>\n    <tr>\n      <th>999996</th>\n      <td>140</td>\n      <td>1</td>\n    </tr>\n    <tr>\n      <th>999997</th>\n      <td>1725</td>\n      <td>3</td>\n    </tr>\n    <tr>\n      <th>999998</th>\n      <td>3474</td>\n      <td>5</td>\n    </tr>\n    <tr>\n      <th>999999</th>\n      <td>3102</td>\n      <td>7</td>\n    </tr>\n  </tbody>\n</table>\n<p>926951 rows × 2 columns</p>\n</div>"
     },
     "execution_count": 66,
     "metadata": {},
     "output_type": "execute_result"
    }
   ],
   "source": [
    "fact_challenge = pd.read_csv(\"fact_challenge.csv\",nrows=1000000)\n",
    "color_and_item = fact_challenge.loc[fact_challenge['event'] == \"assign_color\"]\n",
    "color_and_item = color_and_item[[\"color_id\", \"item_id\"]]\n",
    "color_and_item"
   ]
  },
  {
   "cell_type": "code",
   "execution_count": 67,
   "id": "93f94831",
   "metadata": {
    "pycharm": {
     "name": "#%%\n"
    }
   },
   "outputs": [
    {
     "data": {
      "text/plain": "[(3191, 1),\n (1560, 5),\n (816, 18),\n (2799, 21),\n (770, 23),\n (1115, 25),\n (669, 27),\n (2850, 29),\n (572, 31),\n (2394, 33),\n (2327, 1),\n (811, 3),\n (2914, 5),\n (1966, 7),\n (830, 9),\n (2189, 18),\n (1431, 21),\n (770, 23),\n (655, 25),\n (770, 27),\n (1944, 29),\n (1526, 31),\n (1923, 33),\n (2265, 1),\n (1152, 3),\n (1770, 5),\n (1966, 7),\n (3494, 18),\n (1947, 21),\n (3519, 23),\n (466, 25),\n (830, 27),\n (3296, 29),\n (1562, 31),\n (2362, 33),\n (1563, 1),\n (2411, 3),\n (830, 5),\n (1115, 18),\n (1806, 21),\n (1947, 23),\n (816, 25),\n (242, 27),\n (830, 29),\n (1966, 31),\n (1141, 33),\n (829, 1),\n (1966, 3),\n (2327, 5),\n (1141, 7),\n (2624, 9),\n (818, 11),\n (812, 13),\n (830, 18),\n (812, 21),\n (833, 23),\n (829, 25),\n (811, 27),\n (816, 29),\n (816, 31),\n (811, 33),\n (1314, 1),\n (2301, 3),\n (2566, 5),\n (247, 7),\n (3461, 9),\n (2799, 18),\n (2566, 21),\n (2566, 23),\n (3494, 25),\n (812, 27),\n (947, 29),\n (812, 31),\n (649, 33),\n (3409, 1),\n (830, 3),\n (2394, 5),\n (837, 18),\n (3068, 21),\n (1132, 23),\n (3519, 25),\n (2104, 27),\n (1697, 29),\n (1944, 31),\n (1806, 33),\n (794, 3),\n (947, 5),\n (369, 18),\n (2566, 21),\n (3510, 23),\n (225, 25),\n (671, 27),\n (816, 29),\n (1806, 31),\n (2566, 33),\n (572, 1),\n (1679, 3),\n (1562, 5),\n (816, 18),\n (816, 21),\n (2566, 23),\n (3519, 25),\n (648, 27),\n (794, 29),\n (2275, 31),\n (830, 33),\n (2258, 1),\n (2432, 3),\n (3320, 18),\n (816, 21),\n (1806, 23),\n (2799, 25),\n (830, 27),\n (1761, 29),\n (648, 31),\n (1723, 33),\n (2300, 1),\n (2189, 3),\n (2781, 5),\n (3068, 18),\n (3071, 21),\n (1395, 23),\n (2566, 25),\n (830, 27),\n (830, 29),\n (816, 31),\n (2425, 33),\n (2719, 1),\n (3068, 3),\n (3510, 18),\n (3461, 21),\n (2566, 23),\n (2394, 25),\n (2722, 27),\n (830, 29),\n (816, 31),\n (3068, 33),\n (3063, 1),\n (1723, 3),\n (3054, 5),\n (2189, 7),\n (2566, 18),\n (2719, 21),\n (770, 23),\n (648, 25),\n (2624, 27),\n (811, 29),\n (648, 31),\n (811, 33),\n (2719, 1),\n (1944, 3),\n (648, 5),\n (449, 18),\n (1806, 21),\n (2624, 23),\n (2624, 25),\n (376, 27),\n (1209, 29),\n (2888, 31),\n (830, 33),\n (1087, 44),\n (783, 1),\n (1947, 3),\n (1562, 5),\n (2425, 7),\n (2394, 9),\n (1514, 18),\n (947, 21),\n (3447, 23),\n (3486, 25),\n (2624, 27),\n (469, 29),\n (2722, 31),\n (428, 33),\n (1080, 41),\n (837, 1),\n (687, 3),\n (2649, 5),\n (3320, 7),\n (1560, 9),\n (2425, 11),\n (1431, 18),\n (504, 21),\n (812, 23),\n (1966, 25),\n (2566, 27),\n (811, 29),\n (3495, 31),\n (2362, 33),\n (572, 1),\n (469, 18),\n (469, 21),\n (1331, 23),\n (469, 25),\n (1947, 27),\n (1806, 29),\n (2975, 31),\n (2394, 33),\n (3437, 1),\n (816, 3),\n (2566, 5),\n (2394, 7),\n (816, 9),\n (2888, 11),\n (3495, 18),\n (830, 21),\n (1806, 23),\n (1239, 25),\n (2298, 27),\n (816, 29),\n (526, 31),\n (1141, 33),\n (2529, 1),\n (2339, 3),\n (811, 5),\n (3041, 7),\n (1791, 9),\n (1209, 11),\n (830, 13),\n (3476, 18),\n (2566, 21),\n (2719, 23),\n (2258, 25),\n (3510, 27),\n (2235, 29),\n (770, 31),\n (2362, 33),\n (1560, 1),\n (671, 3),\n (829, 5),\n (830, 7),\n (812, 9),\n (3519, 11),\n (2327, 18),\n (3077, 21),\n (830, 23),\n (1187, 25),\n (225, 27),\n (775, 29),\n (1817, 31),\n (1944, 33),\n (2566, 1),\n (829, 18),\n (829, 21),\n (1014, 23),\n (830, 25),\n (816, 27),\n (2339, 29),\n (830, 31),\n (1144, 33),\n (816, 1),\n (818, 3),\n (1867, 5),\n (794, 18),\n (2566, 21),\n (1944, 23),\n (1144, 25),\n (3417, 27),\n (2548, 29),\n (833, 31),\n (794, 33),\n (833, 1),\n (816, 3),\n (830, 5),\n (423, 7),\n (1944, 9),\n (830, 11),\n (2339, 13),\n (648, 14),\n (1319, 15),\n (2737, 16),\n (1560, 17),\n (947, 18),\n (3447, 21),\n (2799, 23),\n (2529, 25),\n (3191, 27),\n (2566, 29),\n (2538, 31),\n (1165, 33),\n (2327, 1),\n (953, 3),\n (1560, 18),\n (3417, 21),\n (818, 23),\n (2566, 25),\n (833, 27),\n (2538, 29),\n (484, 31),\n (2579, 33),\n (830, 1),\n (2339, 18),\n (3528, 21),\n (816, 23),\n (1144, 25),\n (1144, 27),\n (1144, 29),\n (2158, 31),\n (859, 33),\n (3409, 1),\n (2579, 3),\n (830, 5),\n (2783, 7),\n (2327, 9),\n (3260, 18),\n (2538, 21),\n (816, 23),\n (794, 25),\n (2566, 27),\n (833, 29),\n (2799, 31),\n (830, 33),\n (2394, 1),\n (1405, 3),\n (1560, 18),\n (2566, 21),\n (1208, 23),\n (1944, 25),\n (572, 27),\n (1127, 29),\n (1635, 31),\n (947, 33),\n (3166, 1),\n (2566, 3),\n (1944, 5),\n (1944, 18),\n (2339, 21),\n (179, 23),\n (1562, 25),\n (2566, 27),\n (775, 29),\n (426, 31),\n (794, 33),\n (2212, 1),\n (649, 3),\n (1923, 5),\n (1562, 7),\n (929, 9),\n (1791, 18),\n (981, 21),\n (1944, 23),\n (982, 25),\n (2117, 27),\n (429, 29),\n (1761, 31),\n (1115, 33),\n (1944, 1),\n (2990, 3),\n (2570, 5),\n (1944, 18),\n (3152, 21),\n (3411, 23),\n (3063, 25),\n (2339, 27),\n (179, 29),\n (1923, 31),\n (1923, 33),\n (1511, 3),\n (794, 5),\n (2301, 7),\n (2339, 9),\n (816, 11),\n (2566, 13),\n (2566, 14),\n (1560, 15),\n (2596, 18),\n (3063, 21),\n (2107, 23),\n (1806, 25),\n (816, 27),\n (2339, 29),\n (648, 31),\n (1806, 33),\n (816, 1),\n (671, 3),\n (429, 5),\n (818, 7),\n (2301, 18),\n (816, 21),\n (2697, 23),\n (3447, 25),\n (833, 27),\n (829, 29),\n (947, 31),\n (1319, 33),\n (775, 1),\n (830, 3),\n (929, 5),\n (714, 7),\n (2425, 9),\n (531, 11),\n (671, 18),\n (570, 21),\n (3494, 23),\n (3191, 25),\n (818, 27),\n (2030, 29),\n (816, 31),\n (649, 33),\n (61, 1),\n (982, 3),\n (1254, 5),\n (982, 7),\n (929, 9),\n (1195, 11),\n (816, 18),\n (830, 21),\n (812, 23),\n (649, 25),\n (775, 27),\n (387, 29),\n (2301, 31),\n (531, 33),\n (378, 1),\n (1127, 18),\n (981, 21),\n (1944, 23),\n (423, 25),\n (929, 27),\n (1304, 29),\n (1635, 31),\n (323, 33),\n (1807, 1),\n (2566, 3),\n (1944, 5),\n (466, 21),\n (2030, 23),\n (946, 25),\n (1560, 27),\n (812, 29),\n (1735, 31),\n (794, 33),\n (669, 1),\n (3510, 3),\n (2301, 5),\n (888, 7),\n (2566, 9),\n (2529, 18),\n (816, 21),\n (1526, 23),\n (2275, 25),\n (816, 27),\n (3519, 29),\n (830, 31),\n (2799, 33),\n (1945, 1),\n (1147, 3),\n (2376, 5),\n (1957, 7),\n (781, 18),\n (1945, 21),\n (458, 23),\n (3242, 25),\n (816, 27),\n (1856, 29),\n (1190, 31),\n (516, 33),\n (2911, 1),\n (2391, 3),\n (2573, 5),\n (1470, 18),\n (2573, 21),\n (2573, 23),\n (2573, 25),\n (1470, 27),\n (2573, 29),\n (2573, 31),\n (1944, 33),\n (816, 1),\n (1145, 3),\n (3024, 5),\n (2624, 7),\n (2264, 9),\n (816, 11),\n (816, 13),\n (808, 18),\n (816, 21),\n (816, 23),\n (808, 25),\n (816, 27),\n (808, 29),\n (808, 31),\n (816, 33),\n (3519, 1),\n (1701, 3),\n (2907, 5),\n (248, 7),\n (1190, 9),\n (3488, 18),\n (1806, 21),\n (1806, 23),\n (1111, 25),\n (1957, 27),\n (2971, 29),\n (1957, 31),\n (1701, 33),\n (894, 3),\n (1620, 5),\n (590, 18),\n (2267, 21),\n (1779, 23),\n (878, 25),\n (3017, 27),\n (1145, 29),\n (2267, 31),\n (2267, 33),\n (458, 1),\n (2744, 3),\n (2910, 5),\n (1957, 18),\n (1957, 21),\n (2574, 23),\n (458, 25),\n (3034, 27),\n (3034, 29),\n (2294, 31),\n (1806, 33),\n (1925, 1),\n (1190, 3),\n (2182, 18),\n (1970, 21),\n (1806, 23),\n (2719, 25),\n (894, 27),\n (1760, 29),\n (894, 31),\n (2162, 33),\n (2479, 1),\n (2911, 3),\n (2911, 5),\n (3068, 18),\n (3075, 21),\n (1760, 23),\n (1805, 25),\n (2881, 27),\n (1805, 29),\n (1805, 31),\n (2425, 33),\n (1083, 40),\n (3071, 1),\n (3513, 3),\n (1190, 5),\n (2311, 7),\n (1470, 18),\n (808, 21),\n (1944, 23),\n (1806, 25),\n (1806, 27),\n (2573, 29),\n (2573, 31),\n (1806, 33),\n (3155, 3),\n (1890, 5),\n (2393, 7),\n (1190, 9),\n (2415, 11),\n (3517, 18),\n (2079, 21),\n (2229, 23),\n (2719, 25),\n (1106, 27),\n (1806, 29),\n (1806, 31),\n (1970, 33),\n (1072, 42),\n (348, 1),\n (864, 3),\n (2744, 5),\n (986, 18),\n (830, 21),\n (830, 23),\n (2627, 25),\n (2759, 27),\n (410, 29),\n (830, 31),\n (830, 33),\n (2437, 1),\n (410, 3),\n (816, 5),\n (816, 7),\n (789, 9),\n (2128, 11),\n (2156, 18),\n (3082, 21),\n (816, 23),\n (2120, 25),\n (878, 27),\n (426, 29),\n (2228, 31),\n (789, 33),\n (1732, 1),\n (3519, 3),\n (2079, 5),\n (3517, 7),\n (3134, 18),\n (2415, 21),\n (817, 23),\n (1144, 25),\n (818, 27),\n (817, 29),\n (818, 31),\n (818, 33),\n (3060, 1),\n (1805, 3),\n (1147, 5),\n (825, 7),\n (2415, 9),\n (2311, 11),\n (1190, 13),\n (2212, 18),\n (1701, 21),\n (3014, 23),\n (2244, 25),\n (2900, 27),\n (1052, 29),\n (1805, 31),\n (1805, 33),\n (170, 1),\n (986, 3),\n (1147, 5),\n (1945, 7),\n (2415, 9),\n (2391, 11),\n (2437, 13),\n (2221, 18),\n (2908, 21),\n (3011, 23),\n (1019, 25),\n (518, 27),\n (523, 29),\n (986, 31),\n (830, 33),\n (2769, 1),\n (1805, 3),\n (1970, 5),\n (1006, 7),\n (2425, 9),\n (2393, 11),\n (2910, 13),\n (2769, 18),\n (2442, 21),\n (3075, 23),\n (3068, 25),\n (2900, 27),\n (2900, 29),\n (1805, 31),\n (1805, 33),\n (1083, 40),\n (3467, 1),\n (648, 3),\n (1805, 5),\n (2748, 7),\n (1296, 18),\n (1805, 21),\n (1805, 23),\n (2348, 25),\n (410, 27),\n (3496, 29),\n (3496, 31),\n (1805, 33),\n (888, 1),\n (975, 18),\n (975, 21),\n (1015, 23),\n (975, 25),\n (1965, 27),\n (887, 29),\n (888, 31),\n (1147, 33),\n (1147, 1),\n (797, 3),\n (2883, 5),\n (816, 18),\n (1141, 21),\n (1147, 23),\n (1141, 25),\n (3155, 27),\n (2769, 29),\n (817, 31),\n (805, 33),\n (830, 1),\n (888, 18),\n (1395, 21),\n (1144, 23),\n (1144, 25),\n (1144, 27),\n (1144, 29),\n (186, 31),\n (1010, 33),\n (3409, 1),\n (1297, 3),\n (986, 5),\n (1190, 7),\n (2391, 9),\n (1601, 18),\n (3195, 21),\n (1144, 23),\n (986, 25),\n (986, 27),\n (1701, 29),\n (1111, 31),\n (986, 33),\n (2391, 1),\n (3496, 3),\n (816, 5),\n (816, 7),\n (1147, 9),\n (1147, 11),\n (994, 13),\n (1147, 14),\n (2391, 18),\n (1015, 21),\n (2415, 23),\n (1147, 25),\n (2755, 27),\n (1379, 29),\n (1379, 31),\n (1147, 33),\n (1970, 1),\n (2624, 3),\n (2624, 18),\n (2624, 21),\n (2624, 23),\n (1849, 25),\n (2624, 27),\n (1701, 29),\n (2624, 31),\n (3332, 33),\n (3071, 1),\n (894, 3),\n (1805, 5),\n (2415, 7),\n (2182, 11),\n (1190, 13),\n (3069, 18),\n (343, 21),\n (780, 23),\n (1805, 25),\n (1805, 27),\n (1805, 29),\n (811, 31),\n (1957, 33),\n (1965, 1),\n (350, 3),\n (3448, 5),\n (888, 18),\n (2552, 21),\n (2552, 23),\n (2552, 25),\n (2881, 27),\n (3146, 29),\n (2914, 31),\n (2881, 33),\n (2128, 3),\n (2905, 5),\n (896, 7),\n (896, 9),\n (1971, 11),\n (2264, 13),\n (1806, 14),\n (1190, 15),\n (1225, 18),\n (3090, 21),\n (2128, 23),\n (2573, 25),\n (2573, 27),\n (894, 29),\n (895, 31),\n (894, 33),\n (1147, 1),\n (671, 3),\n (3496, 5),\n (2626, 7),\n (830, 18),\n (887, 21),\n (682, 23),\n (3068, 25),\n (887, 27),\n (1805, 29),\n (1379, 31),\n (580, 33),\n (2900, 1),\n (1805, 3),\n (1190, 5),\n (710, 7),\n (2415, 9),\n (3195, 11),\n (3495, 18),\n (3531, 21),\n (1106, 23),\n (2900, 25),\n (1970, 27),\n (3519, 29),\n (1806, 31),\n (2904, 33),\n (3410, 1),\n (2264, 3),\n (2078, 5),\n (2264, 7),\n (1604, 9),\n (3056, 11),\n (1139, 18),\n (1139, 21),\n (1701, 23),\n (1701, 25),\n (2900, 27),\n (3519, 29),\n (2264, 31),\n (3519, 33),\n (2574, 1),\n (825, 3),\n (1139, 5),\n (2971, 21),\n (470, 23),\n (2971, 25),\n (1190, 27),\n (1806, 29),\n (2391, 31),\n (825, 33),\n (2806, 1),\n (2234, 3),\n (1806, 5),\n (1806, 7),\n (2574, 9),\n (3495, 18),\n (1145, 21),\n (350, 23),\n (2275, 25),\n (1805, 27),\n (3519, 29),\n (2264, 31),\n (3069, 33),\n (309, 1),\n (1572, 5),\n (1144, 18),\n (410, 21),\n (895, 23),\n (2066, 25),\n (3239, 27),\n (2066, 29),\n (2108, 31),\n (3055, 33),\n (2426, 1),\n (828, 3),\n (2193, 5),\n (1944, 7),\n (828, 9),\n (2193, 18),\n (1431, 21),\n (3034, 23),\n (3034, 25),\n (3034, 27),\n (1944, 29),\n (491, 31),\n (2783, 33),\n (1147, 1),\n (1968, 3),\n (3230, 5),\n (1147, 7),\n (771, 18),\n (1147, 21),\n (3241, 23),\n (3246, 25),\n (820, 27),\n (1853, 29),\n (1573, 31),\n (3281, 33),\n (1567, 1),\n (2411, 3),\n (3487, 5),\n (3488, 18),\n (2573, 21),\n (3034, 23),\n (2573, 25),\n (243, 27),\n (1955, 29),\n (3034, 31),\n (1966, 33),\n (823, 1),\n (1144, 3),\n (2282, 5),\n (1144, 7),\n (1968, 9),\n (823, 11),\n (823, 13),\n (823, 18),\n (820, 21),\n (823, 23),\n (820, 25),\n (820, 27),\n (820, 29),\n (820, 31),\n (820, 33),\n (465, 1),\n (895, 3),\n (2442, 5),\n (708, 7),\n (382, 9),\n (309, 18),\n (810, 21),\n (810, 23),\n (309, 25),\n (1144, 27),\n (1383, 29),\n (1147, 31),\n (895, 33),\n (3409, 1),\n (982, 3),\n (3474, 5),\n (3397, 18),\n (73, 21),\n (461, 23),\n (1860, 25),\n (1860, 27),\n (461, 29),\n (1144, 31),\n (982, 33),\n (2491, 3),\n (3514, 5),\n (1719, 18),\n (3455, 21),\n (1832, 23),\n (498, 25),\n (318, 27),\n (1945, 29),\n (3455, 31),\n (3455, 33),\n (1621, 1),\n (2408, 3),\n (2432, 5),\n (1947, 18),\n (1947, 21),\n (1805, 23),\n (3514, 25),\n (895, 27),\n (895, 29),\n (756, 31),\n (1947, 33),\n (411, 1),\n (435, 18),\n (309, 21),\n (1359, 23),\n (1957, 25),\n (1957, 27),\n (1957, 29),\n (2166, 31),\n (2182, 1),\n (1190, 3),\n (2408, 18),\n (1957, 21),\n (1947, 23),\n (780, 25),\n (649, 27),\n (1526, 29),\n (649, 31),\n (1183, 33),\n (3156, 1),\n (2254, 3),\n (2254, 5),\n (3509, 18),\n (2355, 21),\n (3533, 23),\n (982, 25),\n (1944, 27),\n (982, 29),\n (982, 31),\n (2428, 33),\n (2715, 1),\n (467, 3),\n (467, 18),\n (1573, 21),\n (3452, 23),\n (3474, 25),\n (2715, 27),\n (830, 29),\n (1147, 31),\n (467, 33),\n (140, 1),\n (2591, 3),\n (1900, 5),\n (2775, 7),\n (3455, 18),\n (772, 21),\n (769, 23),\n (769, 25),\n (3455, 27),\n (3455, 29),\n (1944, 31),\n (1147, 33),\n (309, 1),\n (1144, 3),\n (1144, 5),\n (3270, 7),\n (2705, 9),\n (711, 11),\n (2573, 13),\n (2573, 18),\n (2573, 21),\n (3246, 23),\n (1573, 25),\n ...]"
     },
     "execution_count": 67,
     "metadata": {},
     "output_type": "execute_result"
    }
   ],
   "source": [
    "item_color_lst = list(zip(color_and_item.color_id, color_and_item.item_id))\n",
    "item_color_lst"
   ]
  },
  {
   "cell_type": "code",
   "execution_count": 68,
   "id": "06f63216",
   "metadata": {
    "pycharm": {
     "name": "#%%\n"
    }
   },
   "outputs": [
    {
     "data": {
      "text/plain": "Counter({(3191, 1): 17,\n         (1560, 5): 435,\n         (816, 18): 1403,\n         (2799, 21): 90,\n         (770, 23): 184,\n         (1115, 25): 152,\n         (669, 27): 58,\n         (2850, 29): 16,\n         (572, 31): 56,\n         (2394, 33): 31,\n         (2327, 1): 22,\n         (811, 3): 794,\n         (2914, 5): 349,\n         (1966, 7): 229,\n         (830, 9): 1602,\n         (2189, 18): 58,\n         (1431, 21): 111,\n         (655, 25): 24,\n         (770, 27): 187,\n         (1944, 29): 1188,\n         (1526, 31): 51,\n         (1923, 33): 112,\n         (2265, 1): 6,\n         (1152, 3): 4,\n         (1770, 5): 7,\n         (3494, 18): 97,\n         (1947, 21): 81,\n         (3519, 23): 339,\n         (466, 25): 44,\n         (830, 27): 6498,\n         (3296, 29): 57,\n         (1562, 31): 85,\n         (2362, 33): 36,\n         (1563, 1): 35,\n         (2411, 3): 36,\n         (830, 5): 4669,\n         (1115, 18): 111,\n         (1806, 21): 2413,\n         (1947, 23): 114,\n         (816, 25): 1248,\n         (242, 27): 157,\n         (830, 29): 5590,\n         (1966, 31): 162,\n         (1141, 33): 91,\n         (829, 1): 61,\n         (1966, 3): 322,\n         (2327, 5): 17,\n         (1141, 7): 49,\n         (2624, 9): 30,\n         (818, 11): 43,\n         (812, 13): 218,\n         (830, 18): 3516,\n         (812, 21): 55,\n         (833, 23): 47,\n         (829, 25): 127,\n         (811, 27): 806,\n         (816, 29): 1267,\n         (816, 31): 1402,\n         (811, 33): 740,\n         (1314, 1): 3,\n         (2301, 3): 107,\n         (2566, 5): 100,\n         (247, 7): 67,\n         (3461, 9): 49,\n         (2799, 18): 97,\n         (2566, 21): 224,\n         (2566, 23): 106,\n         (3494, 25): 105,\n         (812, 27): 69,\n         (947, 29): 11,\n         (812, 31): 82,\n         (649, 33): 86,\n         (3409, 1): 467,\n         (830, 3): 4142,\n         (2394, 5): 229,\n         (837, 18): 34,\n         (3068, 21): 100,\n         (1132, 23): 5,\n         (3519, 25): 247,\n         (2104, 27): 3,\n         (1697, 29): 14,\n         (1944, 31): 1870,\n         (1806, 33): 2270,\n         (794, 3): 39,\n         (947, 5): 7,\n         (369, 18): 73,\n         (3510, 23): 45,\n         (225, 25): 5,\n         (671, 27): 26,\n         (1806, 31): 1151,\n         (2566, 33): 191,\n         (572, 1): 45,\n         (1679, 3): 8,\n         (1562, 5): 128,\n         (816, 21): 1756,\n         (648, 27): 223,\n         (794, 29): 33,\n         (2275, 31): 46,\n         (830, 33): 4490,\n         (2258, 1): 36,\n         (2432, 3): 63,\n         (3320, 18): 20,\n         (1806, 23): 2077,\n         (2799, 25): 164,\n         (1761, 29): 68,\n         (648, 31): 296,\n         (1723, 33): 81,\n         (2300, 1): 198,\n         (2189, 3): 67,\n         (2781, 5): 31,\n         (3068, 18): 621,\n         (3071, 21): 365,\n         (1395, 23): 64,\n         (2566, 25): 124,\n         (2425, 33): 89,\n         (2719, 1): 146,\n         (3068, 3): 112,\n         (3510, 18): 56,\n         (3461, 21): 31,\n         (2394, 25): 29,\n         (2722, 27): 125,\n         (3068, 33): 213,\n         (3063, 1): 222,\n         (1723, 3): 26,\n         (3054, 5): 38,\n         (2189, 7): 93,\n         (2566, 18): 85,\n         (2719, 21): 24,\n         (648, 25): 99,\n         (2624, 27): 105,\n         (811, 29): 859,\n         (1944, 3): 1844,\n         (648, 5): 210,\n         (449, 18): 17,\n         (2624, 23): 127,\n         (2624, 25): 147,\n         (376, 27): 52,\n         (1209, 29): 41,\n         (2888, 31): 12,\n         (1087, 44): 163,\n         (783, 1): 31,\n         (1947, 3): 55,\n         (2425, 7): 71,\n         (2394, 9): 38,\n         (1514, 18): 108,\n         (947, 21): 38,\n         (3447, 23): 15,\n         (3486, 25): 35,\n         (469, 29): 619,\n         (2722, 31): 38,\n         (428, 33): 4,\n         (1080, 41): 43,\n         (837, 1): 155,\n         (687, 3): 23,\n         (2649, 5): 7,\n         (3320, 7): 6,\n         (1560, 9): 296,\n         (2425, 11): 76,\n         (1431, 18): 12,\n         (504, 21): 5,\n         (812, 23): 54,\n         (1966, 25): 218,\n         (2566, 27): 95,\n         (3495, 31): 277,\n         (469, 18): 325,\n         (469, 21): 246,\n         (1331, 23): 4,\n         (469, 25): 253,\n         (1947, 27): 90,\n         (1806, 29): 1479,\n         (2975, 31): 14,\n         (3437, 1): 69,\n         (816, 3): 1063,\n         (2394, 7): 81,\n         (816, 9): 525,\n         (2888, 11): 2,\n         (3495, 18): 374,\n         (830, 21): 5985,\n         (1239, 25): 4,\n         (2298, 27): 60,\n         (526, 31): 4,\n         (2529, 1): 10,\n         (2339, 3): 33,\n         (811, 5): 598,\n         (3041, 7): 26,\n         (1791, 9): 8,\n         (1209, 11): 575,\n         (830, 13): 895,\n         (3476, 18): 373,\n         (2719, 23): 51,\n         (2258, 25): 15,\n         (3510, 27): 70,\n         (2235, 29): 224,\n         (770, 31): 278,\n         (1560, 1): 234,\n         (671, 3): 169,\n         (829, 5): 141,\n         (830, 7): 1550,\n         (812, 9): 15,\n         (3519, 11): 199,\n         (2327, 18): 20,\n         (3077, 21): 126,\n         (830, 23): 3965,\n         (1187, 25): 11,\n         (225, 27): 9,\n         (775, 29): 86,\n         (1817, 31): 10,\n         (1944, 33): 1674,\n         (2566, 1): 15,\n         (829, 18): 144,\n         (829, 21): 138,\n         (1014, 23): 96,\n         (830, 25): 4822,\n         (816, 27): 2087,\n         (2339, 29): 58,\n         (830, 31): 4992,\n         (1144, 33): 139,\n         (816, 1): 651,\n         (818, 3): 53,\n         (1867, 5): 5,\n         (794, 18): 23,\n         (1944, 23): 3306,\n         (1144, 25): 325,\n         (3417, 27): 14,\n         (2548, 29): 1,\n         (833, 31): 49,\n         (794, 33): 57,\n         (833, 1): 67,\n         (423, 7): 18,\n         (1944, 9): 1023,\n         (830, 11): 781,\n         (2339, 13): 6,\n         (648, 14): 52,\n         (1319, 15): 5,\n         (2737, 16): 3,\n         (1560, 17): 103,\n         (947, 18): 100,\n         (3447, 21): 2,\n         (2799, 23): 53,\n         (2529, 25): 13,\n         (3191, 27): 8,\n         (2566, 29): 149,\n         (2538, 31): 22,\n         (1165, 33): 23,\n         (953, 3): 12,\n         (1560, 18): 257,\n         (3417, 21): 111,\n         (818, 23): 45,\n         (833, 27): 96,\n         (2538, 29): 21,\n         (484, 31): 208,\n         (2579, 33): 21,\n         (830, 1): 2591,\n         (2339, 18): 47,\n         (3528, 21): 755,\n         (816, 23): 1652,\n         (1144, 27): 298,\n         (1144, 29): 253,\n         (2158, 31): 56,\n         (859, 33): 59,\n         (2579, 3): 8,\n         (2783, 7): 25,\n         (2327, 9): 7,\n         (3260, 18): 93,\n         (2538, 21): 34,\n         (794, 25): 19,\n         (833, 29): 45,\n         (2799, 31): 36,\n         (2394, 1): 37,\n         (1405, 3): 1,\n         (1208, 23): 107,\n         (1944, 25): 1405,\n         (572, 27): 11,\n         (1127, 29): 84,\n         (1635, 31): 9,\n         (947, 33): 21,\n         (3166, 1): 19,\n         (2566, 3): 92,\n         (1944, 5): 934,\n         (1944, 18): 1125,\n         (2339, 21): 12,\n         (179, 23): 7,\n         (1562, 25): 64,\n         (426, 31): 110,\n         (2212, 1): 334,\n         (649, 3): 288,\n         (1923, 5): 94,\n         (1562, 7): 117,\n         (929, 9): 19,\n         (1791, 18): 209,\n         (981, 21): 91,\n         (982, 25): 610,\n         (2117, 27): 64,\n         (429, 29): 49,\n         (1761, 31): 105,\n         (1115, 33): 445,\n         (1944, 1): 1686,\n         (2990, 3): 14,\n         (2570, 5): 431,\n         (3152, 21): 15,\n         (3411, 23): 21,\n         (3063, 25): 147,\n         (2339, 27): 44,\n         (179, 29): 8,\n         (1923, 31): 27,\n         (1511, 3): 12,\n         (794, 5): 19,\n         (2301, 7): 95,\n         (2339, 9): 88,\n         (816, 11): 252,\n         (2566, 13): 26,\n         (2566, 14): 20,\n         (1560, 15): 86,\n         (2596, 18): 6,\n         (3063, 21): 57,\n         (2107, 23): 7,\n         (1806, 25): 1839,\n         (429, 5): 99,\n         (818, 7): 10,\n         (2301, 18): 275,\n         (2697, 23): 7,\n         (3447, 25): 13,\n         (829, 29): 266,\n         (947, 31): 20,\n         (1319, 33): 5,\n         (775, 1): 43,\n         (929, 5): 4,\n         (714, 7): 15,\n         (2425, 9): 134,\n         (531, 11): 13,\n         (671, 18): 23,\n         (570, 21): 11,\n         (3494, 23): 54,\n         (3191, 25): 9,\n         (818, 27): 112,\n         (2030, 29): 10,\n         (61, 1): 3,\n         (982, 3): 286,\n         (1254, 5): 76,\n         (982, 7): 187,\n         (1195, 11): 4,\n         (649, 25): 76,\n         (775, 27): 61,\n         (387, 29): 17,\n         (2301, 31): 124,\n         (531, 33): 11,\n         (378, 1): 38,\n         (1127, 18): 12,\n         (423, 25): 31,\n         (929, 27): 3,\n         (1304, 29): 1,\n         (323, 33): 7,\n         (1807, 1): 459,\n         (466, 21): 58,\n         (2030, 23): 88,\n         (946, 25): 23,\n         (1560, 27): 321,\n         (812, 29): 97,\n         (1735, 31): 59,\n         (669, 1): 347,\n         (3510, 3): 397,\n         (2301, 5): 144,\n         (888, 7): 133,\n         (2566, 9): 27,\n         (2529, 18): 4,\n         (1526, 23): 56,\n         (2275, 25): 331,\n         (3519, 29): 523,\n         (2799, 33): 27,\n         (1945, 1): 814,\n         (1147, 3): 136,\n         (2376, 5): 4,\n         (1957, 7): 666,\n         (781, 18): 135,\n         (1945, 21): 2362,\n         (458, 23): 1105,\n         (3242, 25): 16,\n         (1856, 29): 74,\n         (1190, 31): 281,\n         (516, 33): 76,\n         (2911, 1): 45,\n         (2391, 3): 81,\n         (2573, 5): 338,\n         (1470, 18): 52,\n         (2573, 21): 595,\n         (2573, 23): 508,\n         (2573, 25): 448,\n         (1470, 27): 60,\n         (2573, 29): 332,\n         (2573, 31): 341,\n         (1145, 3): 87,\n         (3024, 5): 6,\n         (2624, 7): 73,\n         (2264, 9): 25,\n         (816, 13): 189,\n         (808, 18): 32,\n         (808, 25): 47,\n         (808, 29): 71,\n         (808, 31): 55,\n         (816, 33): 1425,\n         (3519, 1): 247,\n         (1701, 3): 37,\n         (2907, 5): 35,\n         (248, 7): 11,\n         (1190, 9): 280,\n         (3488, 18): 191,\n         (1111, 25): 81,\n         (1957, 27): 1163,\n         (2971, 29): 102,\n         (1957, 31): 693,\n         (1701, 33): 33,\n         (894, 3): 169,\n         (1620, 5): 5,\n         (590, 18): 34,\n         (2267, 21): 70,\n         (1779, 23): 42,\n         (878, 25): 11,\n         (3017, 27): 18,\n         (1145, 29): 52,\n         (2267, 31): 38,\n         (2267, 33): 61,\n         (458, 1): 527,\n         (2744, 3): 11,\n         (2910, 5): 261,\n         (1957, 18): 475,\n         (1957, 21): 978,\n         (2574, 23): 316,\n         (458, 25): 496,\n         (3034, 27): 203,\n         (3034, 29): 106,\n         (2294, 31): 7,\n         (1925, 1): 10,\n         (1190, 3): 233,\n         (2182, 18): 59,\n         (1970, 21): 46,\n         (2719, 25): 97,\n         (894, 27): 414,\n         (1760, 29): 43,\n         (894, 31): 307,\n         (2162, 33): 127,\n         (2479, 1): 72,\n         (2911, 3): 127,\n         (2911, 5): 228,\n         (3075, 21): 122,\n         (1760, 23): 16,\n         (1805, 25): 1815,\n         (2881, 27): 214,\n         (1805, 29): 1452,\n         (1805, 31): 1174,\n         (1083, 40): 403,\n         (3071, 1): 421,\n         (3513, 3): 117,\n         (1190, 5): 322,\n         (2311, 7): 10,\n         (808, 21): 41,\n         (1806, 27): 1096,\n         (3155, 3): 34,\n         (1890, 5): 2,\n         (2393, 7): 115,\n         (2415, 11): 427,\n         (3517, 18): 180,\n         (2079, 21): 8,\n         (2229, 23): 5,\n         (1106, 27): 63,\n         (1970, 33): 38,\n         (1072, 42): 31,\n         (348, 1): 31,\n         (864, 3): 19,\n         (2744, 5): 8,\n         (986, 18): 632,\n         (2627, 25): 261,\n         (2759, 27): 57,\n         (410, 29): 990,\n         (2437, 1): 112,\n         (410, 3): 192,\n         (816, 5): 923,\n         (816, 7): 1076,\n         (789, 9): 10,\n         (2128, 11): 24,\n         (2156, 18): 3,\n         (3082, 21): 63,\n         (2120, 25): 3,\n         (878, 27): 5,\n         (426, 29): 276,\n         (2228, 31): 27,\n         (789, 33): 44,\n         (1732, 1): 398,\n         (3519, 3): 197,\n         (2079, 5): 31,\n         (3517, 7): 52,\n         (3134, 18): 4,\n         (2415, 21): 272,\n         (817, 23): 282,\n         (817, 29): 330,\n         (818, 31): 91,\n         (818, 33): 96,\n         (3060, 1): 296,\n         (1805, 3): 1220,\n         (1147, 5): 108,\n         (825, 7): 59,\n         (2415, 9): 1062,\n         (2311, 11): 15,\n         (1190, 13): 118,\n         (2212, 18): 329,\n         (1701, 21): 22,\n         (3014, 23): 3,\n         (2244, 25): 12,\n         (2900, 27): 56,\n         (1052, 29): 1,\n         (1805, 33): 1804,\n         (170, 1): 66,\n         (986, 3): 797,\n         (1945, 7): 1099,\n         (2391, 11): 72,\n         (2437, 13): 4,\n         (2221, 18): 6,\n         (2908, 21): 20,\n         (3011, 23): 1,\n         (1019, 25): 11,\n         (518, 27): 9,\n         (523, 29): 9,\n         (986, 31): 971,\n         (2769, 1): 25,\n         (1970, 5): 23,\n         (1006, 7): 7,\n         (2393, 11): 78,\n         (2910, 13): 114,\n         (2769, 18): 13,\n         (2442, 21): 55,\n         (3075, 23): 171,\n         (3068, 25): 438,\n         (2900, 29): 84,\n         (3467, 1): 159,\n         (648, 3): 201,\n         (1805, 5): 1471,\n         (2748, 7): 2,\n         (1296, 18): 17,\n         (1805, 21): 2349,\n         (1805, 23): 1882,\n         (2348, 25): 4,\n         (410, 27): 446,\n         (3496, 29): 72,\n         (3496, 31): 49,\n         (888, 1): 81,\n         (975, 18): 68,\n         (975, 21): 198,\n         (1015, 23): 141,\n         (975, 25): 269,\n         (1965, 27): 502,\n         (887, 29): 92,\n         (888, 31): 277,\n         (1147, 33): 127,\n         (1147, 1): 120,\n         (797, 3): 68,\n         (2883, 5): 45,\n         (1141, 21): 145,\n         (1147, 23): 327,\n         (1141, 25): 265,\n         (3155, 27): 15,\n         (2769, 29): 28,\n         (817, 31): 292,\n         (805, 33): 107,\n         (888, 18): 449,\n         (1395, 21): 407,\n         (1144, 23): 409,\n         (186, 31): 41,\n         (1010, 33): 699,\n         (1297, 3): 23,\n         (986, 5): 1023,\n         (1190, 7): 112,\n         (2391, 9): 67,\n         (1601, 18): 149,\n         (3195, 21): 6,\n         (986, 25): 1663,\n         (986, 27): 954,\n         (1701, 29): 65,\n         (1111, 31): 83,\n         (986, 33): 1304,\n         (2391, 1): 89,\n         (3496, 3): 21,\n         (1147, 9): 69,\n         (1147, 11): 19,\n         (994, 13): 8,\n         (1147, 14): 13,\n         (2391, 18): 100,\n         (1015, 21): 1,\n         (2415, 23): 372,\n         (1147, 25): 165,\n         (2755, 27): 19,\n         (1379, 29): 79,\n         (1379, 31): 101,\n         (1970, 1): 28,\n         (2624, 3): 117,\n         (2624, 18): 92,\n         (2624, 21): 240,\n         (1849, 25): 1,\n         (2624, 31): 128,\n         (3332, 33): 23,\n         (2415, 7): 599,\n         (2182, 11): 7,\n         (3069, 18): 440,\n         (343, 21): 24,\n         (780, 23): 104,\n         (1805, 27): 1235,\n         (811, 31): 660,\n         (1957, 33): 842,\n         (1965, 1): 306,\n         (350, 3): 19,\n         (3448, 5): 42,\n         (2552, 21): 12,\n         (2552, 23): 8,\n         (2552, 25): 13,\n         (3146, 29): 141,\n         (2914, 31): 73,\n         (2881, 33): 81,\n         (2128, 3): 21,\n         (2905, 5): 89,\n         (896, 7): 43,\n         (896, 9): 70,\n         (1971, 11): 54,\n         (2264, 13): 68,\n         (1806, 14): 201,\n         (1190, 15): 104,\n         (1225, 18): 18,\n         (3090, 21): 5,\n         (2128, 23): 29,\n         (2573, 27): 283,\n         (894, 29): 415,\n         (895, 31): 199,\n         (894, 33): 168,\n         (3496, 5): 16,\n         (2626, 7): 32,\n         (887, 21): 19,\n         (682, 23): 15,\n         (887, 27): 91,\n         (580, 33): 60,\n         (2900, 1): 73,\n         (710, 7): 123,\n         (3195, 11): 5,\n         (3531, 21): 49,\n         (1106, 23): 24,\n         (2900, 25): 71,\n         (1970, 27): 55,\n         (2904, 33): 104,\n         (3410, 1): 237,\n         (2264, 3): 75,\n         (2078, 5): 143,\n         (2264, 7): 54,\n         (1604, 9): 16,\n         (3056, 11): 16,\n         (1139, 18): 84,\n         (1139, 21): 87,\n         (1701, 23): 50,\n         (1701, 25): 30,\n         (2264, 31): 86,\n         (3519, 33): 234,\n         (2574, 1): 167,\n         (825, 3): 194,\n         (1139, 5): 79,\n         (2971, 21): 25,\n         (470, 23): 227,\n         (2971, 25): 39,\n         (1190, 27): 374,\n         (2391, 31): 36,\n         (825, 33): 253,\n         (2806, 1): 560,\n         (2234, 3): 377,\n         (1806, 5): 1445,\n         (1806, 7): 601,\n         (2574, 9): 74,\n         (1145, 21): 85,\n         (350, 23): 21,\n         (3069, 33): 136,\n         (309, 1): 96,\n         (1572, 5): 164,\n         (1144, 18): 85,\n         (410, 21): 49,\n         (895, 23): 188,\n         (2066, 25): 29,\n         (3239, 27): 65,\n         (2066, 29): 25,\n         (2108, 31): 14,\n         (3055, 33): 9,\n         (2426, 1): 35,\n         (828, 3): 250,\n         (2193, 5): 44,\n         (1944, 7): 1605,\n         (828, 9): 24,\n         (2193, 18): 18,\n         (3034, 23): 276,\n         (3034, 25): 136,\n         (491, 31): 16,\n         (2783, 33): 66,\n         (1968, 3): 45,\n         (3230, 5): 5,\n         (1147, 7): 103,\n         (771, 18): 20,\n         (1147, 21): 249,\n         (3241, 23): 28,\n         (3246, 25): 16,\n         (820, 27): 623,\n         (1853, 29): 62,\n         (1573, 31): 14,\n         (3281, 33): 21,\n         (1567, 1): 52,\n         (3487, 5): 16,\n         (243, 27): 202,\n         (1955, 29): 38,\n         (3034, 31): 87,\n         (1966, 33): 297,\n         (823, 1): 67,\n         (1144, 3): 224,\n         (2282, 5): 19,\n         (1144, 7): 78,\n         (1968, 9): 20,\n         (823, 11): 51,\n         (823, 13): 95,\n         (823, 18): 71,\n         (820, 21): 692,\n         (823, 23): 44,\n         (820, 25): 450,\n         (820, 29): 599,\n         (820, 31): 512,\n         (820, 33): 507,\n         (465, 1): 42,\n         (895, 3): 149,\n         (2442, 5): 179,\n         (708, 7): 256,\n         (382, 9): 5,\n         (309, 18): 126,\n         (810, 21): 132,\n         (810, 23): 144,\n         (309, 25): 166,\n         (1383, 29): 124,\n         (1147, 31): 89,\n         (895, 33): 214,\n         (3474, 5): 438,\n         (3397, 18): 7,\n         (73, 21): 2,\n         (461, 23): 8,\n         (1860, 25): 6,\n         (1860, 27): 6,\n         (461, 29): 15,\n         (1144, 31): 174,\n         (982, 33): 622,\n         (2491, 3): 3,\n         (3514, 5): 30,\n         (1719, 18): 90,\n         (3455, 21): 346,\n         (1832, 23): 2,\n         (498, 25): 7,\n         (318, 27): 20,\n         (1945, 29): 1055,\n         (3455, 31): 151,\n         (3455, 33): 209,\n         (1621, 1): 40,\n         (2408, 3): 50,\n         (2432, 5): 35,\n         (1947, 18): 25,\n         (3514, 25): 84,\n         (895, 27): 280,\n         (895, 29): 238,\n         (756, 31): 5,\n         (1947, 33): 65,\n         (411, 1): 145,\n         (435, 18): 39,\n         (309, 21): 86,\n         (1359, 23): 24,\n         (1957, 25): 711,\n         (1957, 29): 555,\n         (2166, 31): 16,\n         (2182, 1): 52,\n         (2408, 18): 103,\n         (780, 25): 182,\n         (649, 27): 87,\n         (1526, 29): 123,\n         (649, 31): 184,\n         (1183, 33): 182,\n         (3156, 1): 161,\n         (2254, 3): 81,\n         (2254, 5): 171,\n         (3509, 18): 20,\n         (2355, 21): 13,\n         (3533, 23): 25,\n         (1944, 27): 2546,\n         (982, 29): 369,\n         (982, 31): 279,\n         (2428, 33): 30,\n         (2715, 1): 229,\n         (467, 3): 48,\n         (467, 18): 43,\n         (1573, 21): 8,\n         (3452, 23): 99,\n         (3474, 25): 79,\n         (2715, 27): 343,\n         (467, 33): 41,\n         (140, 1): 120,\n         (2591, 3): 12,\n         (1900, 5): 33,\n         (2775, 7): 82,\n         (3455, 18): 132,\n         (772, 21): 15,\n         (769, 23): 58,\n         (769, 25): 42,\n         (3455, 27): 222,\n         (3455, 29): 153,\n         (1144, 5): 93,\n         (3270, 7): 1,\n         (2705, 9): 6,\n         (711, 11): 84,\n         (2573, 13): 110,\n         (2573, 18): 472,\n         (3246, 23): 8,\n         (1573, 25): 16,\n         (3258, 27): 1,\n         (1338, 29): 384,\n         (3280, 33): 18,\n         (3278, 1): 2,\n         (473, 3): 43,\n         (1564, 5): 404,\n         (2402, 7): 76,\n         (1459, 18): 24,\n         (987, 29): 32,\n         (987, 31): 30,\n         (2573, 33): 410,\n         (3399, 1): 66,\n         (824, 3): 195,\n         (810, 5): 178,\n         (2914, 7): 215,\n         (2430, 9): 242,\n         (2406, 11): 60,\n         (1926, 13): 3,\n         (3399, 18): 19,\n         (3281, 23): 4,\n         (1483, 25): 8,\n         (781, 27): 59,\n         (3492, 29): 343,\n         (3448, 31): 37,\n         (824, 33): 159,\n         (2432, 9): 67,\n         (2408, 11): 13,\n         (1564, 13): 140,\n         (140, 18): 23,\n         (1956, 21): 27,\n         (1916, 23): 2,\n         (2697, 25): 4,\n         (307, 27): 29,\n         (313, 29): 167,\n         (2276, 1): 274,\n         (3455, 3): 142,\n         (2426, 9): 48,\n         (2402, 11): 47,\n         (1555, 13): 18,\n         (2276, 18): 106,\n         (895, 21): 57,\n         (1832, 25): 2,\n         (3241, 27): 27,\n         (3241, 29): 59,\n         (3112, 1): 97,\n         (3280, 18): 4,\n         (982, 21): 610,\n         (2705, 25): 30,\n         (3246, 27): 11,\n         (1458, 29): 98,\n         (415, 31): 100,\n         (981, 1): 9,\n         (820, 18): 527,\n         (1012, 23): 117,\n         (648, 29): 231,\n         (817, 33): 408,\n         (1144, 1): 182,\n         (821, 3): 244,\n         (824, 5): 95,\n         (828, 18): 192,\n         (828, 21): 157,\n         (1956, 23): 60,\n         (1956, 25): 43,\n         (3159, 27): 11,\n         (3159, 29): 5,\n         (824, 31): 167,\n         (828, 33): 260,\n         (1968, 1): 45,\n         (417, 7): 27,\n         (895, 11): 30,\n         (895, 13): 24,\n         (820, 14): 56,\n         (1621, 15): 23,\n         (2411, 16): 6,\n         (3112, 17): 6,\n         (465, 21): 75,\n         (309, 23): 154,\n         (3248, 27): 65,\n         (3459, 29): 40,\n         (533, 31): 28,\n         (2960, 33): 19,\n         (1306, 1): 64,\n         (438, 3): 28,\n         (2194, 18): 25,\n         (3409, 21): 371,\n         (828, 23): 193,\n         (1968, 27): 43,\n         (412, 29): 130,\n         (486, 31): 35,\n         (2577, 33): 29,\n         (2772, 1): 148,\n         (1147, 18): 65,\n         (3027, 23): 4,\n         (1564, 25): 213,\n         (307, 29): 73,\n         (307, 31): 26,\n         (648, 33): 135,\n         (1675, 1): 11,\n         (1945, 3): 813,\n         (3455, 5): 183,\n         (2426, 7): 34,\n         (2194, 11): 6,\n         (2194, 13): 2,\n         (318, 18): 33,\n         (2556, 21): 59,\n         (1947, 1): 41,\n         (1394, 3): 20,\n         (895, 5): 143,\n         (1872, 21): 43,\n         (1872, 23): 17,\n         (1872, 25): 37,\n         (2408, 29): 22,\n         (1574, 31): 9,\n         (3490, 1): 164,\n         (3514, 3): 104,\n         (1947, 7): 52,\n         (2846, 9): 4,\n         (3514, 11): 81,\n         (895, 18): 475,\n         (3069, 25): 390,\n         (2411, 29): 31,\n         (2432, 31): 43,\n         (471, 3): 32,\n         (2491, 5): 10,\n         (817, 7): 125,\n         (895, 9): 300,\n         (1957, 11): 139,\n         (795, 13): 5,\n         (3455, 14): 9,\n         (2436, 15): 5,\n         (848, 18): 10,\n         (471, 23): 16,\n         (3455, 25): 364,\n         (795, 27): 44,\n         (629, 31): 77,\n         (2905, 33): 54,\n         (2066, 3): 113,\n         (425, 5): 33,\n         (3455, 7): 116,\n         (3065, 23): 92,\n         (3065, 25): 150,\n         (2970, 31): 16,\n         (3019, 33): 28,\n         (3492, 11): 28,\n         (318, 25): 41,\n         (1138, 27): 59,\n         (309, 29): 155,\n         (1555, 27): 67,\n         (2174, 29): 9,\n         (1621, 31): 72,\n         (2970, 33): 10,\n         (3448, 1): 171,\n         (2996, 5): 137,\n         (3513, 21): 87,\n         (3516, 23): 380,\n         (1380, 25): 13,\n         (937, 27): 307,\n         (2627, 29): 279,\n         (1741, 31): 14,\n         (410, 1): 491,\n         (410, 7): 214,\n         (819, 13): 54,\n         (819, 14): 34,\n         (3518, 15): 36,\n         (1207, 16): 3,\n         (2189, 17): 6,\n         (1504, 18): 125,\n         (3507, 21): 27,\n         (1178, 23): 105,\n         (410, 25): 928,\n         (1178, 27): 97,\n         (1178, 31): 37,\n         (718, 33): 18,\n         (1530, 1): 75,\n         (1826, 3): 5,\n         (2889, 18): 4,\n         (3411, 21): 203,\n         (829, 23): 144,\n         (829, 27): 189,\n         (1178, 29): 192,\n         (3528, 31): 70,\n         (2003, 33): 11,\n         (3146, 31): 352,\n         (3146, 33): 742,\n         (1207, 1): 6,\n         (1796, 3): 1,\n         ...})"
     },
     "execution_count": 68,
     "metadata": {},
     "output_type": "execute_result"
    }
   ],
   "source": [
    "import collections\n",
    "occurrences_scores = collections.Counter(item_color_lst)\n",
    "occurrences_scores"
   ]
  },
  {
   "cell_type": "code",
   "execution_count": 69,
   "id": "c9617801",
   "metadata": {
    "pycharm": {
     "name": "#%%\n"
    }
   },
   "outputs": [],
   "source": [
    "for key, val in occurrences_scores.items():\n",
    "    occurrences_scores[key] /= max(occurrences_scores.values())\n",
    "    occurrences_scores[key] = 1 - occurrences_scores[key]"
   ]
  },
  {
   "cell_type": "code",
   "execution_count": 70,
   "id": "cb260919",
   "metadata": {
    "pycharm": {
     "name": "#%%\n"
    }
   },
   "outputs": [
    {
     "data": {
      "text/plain": "Counter({(3191, 1): 0.997383810403201,\n         (1560, 5): 0.933056325023084,\n         (816, 18): 0.7840874115112342,\n         (2799, 21): 0.9861495844875346,\n         (770, 23): 0.9716835949522931,\n         (1115, 25): 0.9766081871345029,\n         (669, 27): 0.9910741766697445,\n         (2850, 29): 0.9975377039088951,\n         (572, 31): 0.9913819636811326,\n         (2394, 33): 0.9952293013234842,\n         (2327, 1): 0.9966143428747307,\n         (811, 3): 0.8778085564789166,\n         (2914, 5): 0.9462911665127731,\n         (1966, 7): 0.9647583871960603,\n         (830, 9): 0.7534626038781164,\n         (2189, 18): 0.9910741766697445,\n         (1431, 21): 0.9829178208679594,\n         (655, 25): 0.9963065558633426,\n         (770, 27): 0.9712219144352109,\n         (1944, 29): 0.817174515235457,\n         (1526, 31): 0.9921514312096029,\n         (1923, 33): 0.9827639273622654,\n         (2265, 1): 0.9990766389658357,\n         (1152, 3): 0.9993844259772238,\n         (1770, 5): 0.9989227454601416,\n         (3494, 18): 0.9850723299476762,\n         (1947, 21): 0.9875346260387812,\n         (3519, 23): 0.9478301015697137,\n         (466, 25): 0.9932286857494613,\n         (830, 27): 0.0,\n         (3296, 29): 0.9904761904761905,\n         (1562, 31): 0.985797827903091,\n         (2362, 33): 0.9939849624060151,\n         (1563, 1): 0.9941520467836258,\n         (2411, 3): 0.9939849624060151,\n         (830, 5): 0.21988304093567257,\n         (1115, 18): 0.981453634085213,\n         (1806, 21): 0.5968253968253968,\n         (1947, 23): 0.9809523809523809,\n         (816, 25): 0.7914786967418547,\n         (242, 27): 0.9737677527151212,\n         (830, 29): 0.06599832915622394,\n         (1966, 31): 0.9729323308270676,\n         (1141, 33): 0.9847953216374269,\n         (829, 1): 0.9898078529657477,\n         (1966, 3): 0.9461988304093567,\n         (2327, 5): 0.9971595655806182,\n         (1141, 7): 0.991812865497076,\n         (2624, 9): 0.9949874686716792,\n         (818, 11): 0.9928153717627402,\n         (812, 13): 0.9635756056808689,\n         (830, 18): 0.41253132832080197,\n         (812, 21): 0.9908103592314119,\n         (833, 23): 0.9921470342522974,\n         (829, 25): 0.978780284043442,\n         (811, 27): 0.8653299916457811,\n         (816, 29): 0.7883040935672514,\n         (816, 31): 0.7657477025898078,\n         (811, 33): 0.8763575605680869,\n         (1314, 1): 0.9994987468671679,\n         (2301, 3): 0.9821219715956558,\n         (2566, 5): 0.9832915622389307,\n         (247, 7): 0.9888053467000836,\n         (3461, 9): 0.991812865497076,\n         (2799, 18): 0.9837928153717628,\n         (2566, 21): 0.9625730994152046,\n         (2566, 23): 0.9822890559732665,\n         (3494, 25): 0.9824561403508771,\n         (812, 27): 0.9884711779448622,\n         (947, 29): 0.9981620718462824,\n         (812, 31): 0.9862990810359231,\n         (649, 33): 0.9856307435254804,\n         (3409, 1): 0.9219715956558062,\n         (830, 3): 0.30793650793650795,\n         (2394, 5): 0.9617376775271512,\n         (837, 18): 0.9943191311612364,\n         (3068, 21): 0.9832915622389307,\n         (1132, 23): 0.9991645781119465,\n         (3519, 25): 0.9587301587301588,\n         (2104, 27): 0.9994987468671679,\n         (1697, 29): 0.9976608187134502,\n         (1944, 31): 0.6875522138680034,\n         (1806, 33): 0.620718462823726,\n         (794, 3): 0.993483709273183,\n         (947, 5): 0.9988304093567252,\n         (369, 18): 0.9878028404344193,\n         (3510, 23): 0.9924812030075187,\n         (225, 25): 0.9991645781119465,\n         (671, 27): 0.995655806182122,\n         (1806, 31): 0.8076858813700919,\n         (2566, 33): 0.9680868838763576,\n         (572, 1): 0.9924812030075187,\n         (1679, 3): 0.9986633249791145,\n         (1562, 5): 0.9786131996658313,\n         (816, 21): 0.7065998329156225,\n         (648, 27): 0.9627401837928153,\n         (794, 29): 0.9944862155388471,\n         (2275, 31): 0.9923141186299081,\n         (830, 33): 0.24979114452798667,\n         (2258, 1): 0.9939849624060151,\n         (2432, 3): 0.9894736842105263,\n         (3320, 18): 0.9966583124477861,\n         (1806, 23): 0.6529657477025899,\n         (2799, 25): 0.9725981620718462,\n         (1761, 29): 0.9886382623224729,\n         (648, 31): 0.9505430242272348,\n         (1723, 33): 0.9864661654135338,\n         (2300, 1): 0.9669172932330827,\n         (2189, 3): 0.9888053467000836,\n         (2781, 5): 0.9948203842940685,\n         (3068, 18): 0.8962406015037594,\n         (3071, 21): 0.9390142021720969,\n         (1395, 23): 0.9893065998329156,\n         (2566, 25): 0.979281537176274,\n         (2425, 33): 0.9851294903926483,\n         (2719, 1): 0.9756056808688388,\n         (3068, 3): 0.9812865497076023,\n         (3510, 18): 0.9906432748538012,\n         (3461, 21): 0.9948203842940685,\n         (2394, 25): 0.9951545530492899,\n         (2722, 27): 0.9791144527986633,\n         (3068, 33): 0.9644110275689223,\n         (3063, 1): 0.962907268170426,\n         (1723, 3): 0.995655806182122,\n         (3054, 5): 0.9936507936507937,\n         (2189, 7): 0.9844611528822055,\n         (2566, 18): 0.985797827903091,\n         (2719, 21): 0.9959899749373433,\n         (648, 25): 0.9834586466165414,\n         (2624, 27): 0.9824561403508771,\n         (811, 29): 0.8564745196324144,\n         (1944, 3): 0.6918964076858813,\n         (648, 5): 0.9649122807017544,\n         (449, 18): 0.9971595655806182,\n         (2624, 23): 0.978780284043442,\n         (2624, 25): 0.9754385964912281,\n         (376, 27): 0.9913116123642439,\n         (1209, 29): 0.9931495405179616,\n         (2888, 31): 0.9979949874686717,\n         (1087, 44): 0.9727652464494569,\n         (783, 1): 0.9948203842940685,\n         (1947, 3): 0.9908103592314119,\n         (2425, 7): 0.9881370091896408,\n         (2394, 9): 0.9936507936507937,\n         (1514, 18): 0.9819548872180451,\n         (947, 21): 0.9936507936507937,\n         (3447, 23): 0.9974937343358397,\n         (3486, 25): 0.9941520467836258,\n         (469, 29): 0.8965747702589808,\n         (2722, 31): 0.9936507936507937,\n         (428, 33): 0.9993316624895572,\n         (1080, 41): 0.9928153717627402,\n         (837, 1): 0.9741019214703426,\n         (687, 3): 0.996157059314954,\n         (2649, 5): 0.9988304093567252,\n         (3320, 7): 0.9989974937343359,\n         (1560, 9): 0.9505430242272348,\n         (2425, 11): 0.9873015873015873,\n         (1431, 18): 0.9979949874686717,\n         (504, 21): 0.9991645781119465,\n         (812, 23): 0.9909774436090225,\n         (1966, 25): 0.9635756056808689,\n         (2566, 27): 0.9841269841269842,\n         (3495, 31): 0.953717627401838,\n         (469, 18): 0.9456975772765246,\n         (469, 21): 0.9588972431077695,\n         (1331, 23): 0.9993316624895572,\n         (469, 25): 0.9577276524644945,\n         (1947, 27): 0.9849624060150376,\n         (1806, 29): 0.7528822055137845,\n         (2975, 31): 0.9976608187134502,\n         (3437, 1): 0.9884711779448622,\n         (816, 3): 0.8223893065998329,\n         (2394, 7): 0.9864661654135338,\n         (816, 9): 0.9122807017543859,\n         (2888, 11): 0.9996658312447786,\n         (3495, 18): 0.9375104427736006,\n         (830, 21): 0.0,\n         (1239, 25): 0.999198717948718,\n         (2298, 27): 0.9879807692307693,\n         (526, 31): 0.999198717948718,\n         (2529, 1): 0.9979967948717948,\n         (2339, 3): 0.9933894230769231,\n         (811, 5): 0.8802083333333334,\n         (3041, 7): 0.9947916666666666,\n         (1791, 9): 0.9983974358974359,\n         (1209, 11): 0.8848157051282052,\n         (830, 13): 0.820713141025641,\n         (3476, 18): 0.9252804487179487,\n         (2719, 23): 0.9897836538461539,\n         (2258, 25): 0.9969951923076923,\n         (3510, 27): 0.9859775641025641,\n         (2235, 29): 0.9551282051282052,\n         (770, 31): 0.9443108974358975,\n         (1560, 1): 0.953125,\n         (671, 3): 0.9661458333333334,\n         (829, 5): 0.9717548076923077,\n         (830, 7): 0.6895032051282051,\n         (812, 9): 0.9969951923076923,\n         (3519, 11): 0.960136217948718,\n         (2327, 18): 0.9959935897435898,\n         (3077, 21): 0.9747596153846154,\n         (830, 23): 0.20572916666666663,\n         (1187, 25): 0.9977964743589743,\n         (225, 27): 0.9981971153846154,\n         (775, 29): 0.9827724358974359,\n         (1817, 31): 0.9979967948717948,\n         (1944, 33): 0.6646634615384616,\n         (2566, 1): 0.9969951923076923,\n         (829, 18): 0.9711538461538461,\n         (829, 21): 0.9723557692307693,\n         (1014, 23): 0.9807692307692307,\n         (830, 25): 0.034054487179487225,\n         (816, 27): 0.5819310897435898,\n         (2339, 29): 0.9883814102564102,\n         (830, 31): 0.0,\n         (1144, 33): 0.9579552329098608,\n         (816, 1): 0.8030852994555354,\n         (818, 3): 0.9839685420447671,\n         (1867, 5): 0.9984875983061101,\n         (794, 18): 0.9930429522081065,\n         (1944, 23): 0.0,\n         (1144, 25): 0.8768472906403941,\n         (3417, 27): 0.9946949602122016,\n         (2548, 29): 0.9996210685865858,\n         (833, 31): 0.9814323607427056,\n         (794, 33): 0.9784009094353922,\n         (833, 1): 0.9746115953012505,\n         (423, 7): 0.993179234558545,\n         (1944, 9): 0.612353164077302,\n         (830, 11): 0.7040545661235316,\n         (2339, 13): 0.997726411519515,\n         (648, 14): 0.9802955665024631,\n         (1319, 15): 0.9981053429329292,\n         (2737, 16): 0.9988632057597575,\n         (1560, 17): 0.9609700644183403,\n         (947, 18): 0.9621068586585828,\n         (3447, 21): 0.9992421371731717,\n         (2799, 23): 0.9799166350890489,\n         (2529, 25): 0.9950738916256158,\n         (3191, 27): 0.9969685486926866,\n         (2566, 29): 0.9435392194012884,\n         (2538, 31): 0.9916635089048882,\n         (1165, 33): 0.991284577491474,\n         (953, 3): 0.9954528230390299,\n         (1560, 18): 0.9026146267525578,\n         (3417, 21): 0.9579386131110269,\n         (818, 23): 0.9829480863963622,\n         (833, 27): 0.9636225843122395,\n         (2538, 29): 0.9920424403183024,\n         (484, 31): 0.9211822660098522,\n         (2579, 33): 0.9920424403183024,\n         (830, 1): 0.01818870784388027,\n         (2339, 18): 0.9821902235695339,\n         (3528, 21): 0.7139067828723001,\n         (816, 23): 0.3740053050397878,\n         (1144, 27): 0.8870784388025768,\n         (1144, 29): 0.9041303524062145,\n         (2158, 31): 0.9787798408488063,\n         (859, 33): 0.9776430466085638,\n         (2579, 3): 0.9969685486926866,\n         (2783, 7): 0.9905267146646457,\n         (2327, 9): 0.9973474801061007,\n         (3260, 18): 0.964759378552482,\n         (2538, 21): 0.9871163319439181,\n         (794, 25): 0.9928003031451307,\n         (833, 29): 0.9829480863963622,\n         (2799, 31): 0.9863584691170898,\n         (2394, 1): 0.9859795377036756,\n         (1405, 3): 0.9996210685865858,\n         (1208, 23): 0.9594543387646836,\n         (1944, 25): 0.4676013641530883,\n         (572, 27): 0.9958317544524441,\n         (1127, 29): 0.9681697612732095,\n         (1635, 31): 0.9965896172792724,\n         (947, 33): 0.9920424403183024,\n         (3166, 1): 0.9928003031451307,\n         (2566, 3): 0.9651383099658962,\n         (1944, 5): 0.6460780598711633,\n         (1944, 18): 0.5737021599090565,\n         (2339, 21): 0.9954528230390299,\n         (179, 23): 0.9973474801061007,\n         (1562, 25): 0.975748389541493,\n         (426, 31): 0.9583175445244411,\n         (2212, 1): 0.8734369079196665,\n         (649, 3): 0.8908677529367185,\n         (1923, 5): 0.9643804471390678,\n         (1562, 7): 0.9556650246305418,\n         (929, 9): 0.9928003031451307,\n         (1791, 18): 0.920803334596438,\n         (981, 21): 0.9655172413793104,\n         (982, 25): 0.768851837817355,\n         (2117, 27): 0.975748389541493,\n         (429, 29): 0.9814323607427056,\n         (1761, 31): 0.960212201591512,\n         (1115, 33): 0.8313755210306935,\n         (1944, 1): 0.3611216369837059,\n         (2990, 3): 0.9946949602122016,\n         (2570, 5): 0.8366805608184918,\n         (3152, 21): 0.9943160287987874,\n         (3411, 23): 0.9920424403183024,\n         (3063, 25): 0.9442970822281167,\n         (2339, 27): 0.9833270178097764,\n         (179, 29): 0.9969685486926866,\n         (1923, 31): 0.9897688518378174,\n         (1511, 3): 0.9954528230390299,\n         (794, 5): 0.9928003031451307,\n         (2301, 7): 0.9640015157256536,\n         (2339, 9): 0.9666540356195529,\n         (816, 11): 0.9045092838196287,\n         (2566, 13): 0.9901477832512315,\n         (2566, 14): 0.9924213717317165,\n         (1560, 15): 0.9674118984463812,\n         (2596, 18): 0.997726411519515,\n         (3063, 21): 0.9784009094353922,\n         (2107, 23): 0.9973474801061007,\n         (1806, 25): 0.30314513073133764,\n         (429, 5): 0.962485790071997,\n         (818, 7): 0.9962106858658583,\n         (2301, 18): 0.8957938613111027,\n         (2697, 23): 0.9973474801061007,\n         (3447, 25): 0.9950738916256158,\n         (829, 29): 0.8992042440318302,\n         (947, 31): 0.9924213717317165,\n         (1319, 33): 0.9981053429329292,\n         (775, 1): 0.9837059492231905,\n         (929, 5): 0.9984842743463433,\n         (714, 7): 0.9943160287987874,\n         (2425, 9): 0.9492231906025009,\n         (531, 11): 0.9950738916256158,\n         (671, 18): 0.991284577491474,\n         (570, 21): 0.9958317544524441,\n         (3494, 23): 0.9795377036756348,\n         (3191, 25): 0.9965896172792724,\n         (818, 27): 0.9575596816976127,\n         (2030, 29): 0.9962106858658583,\n         (61, 1): 0.9988632057597575,\n         (982, 3): 0.8916256157635468,\n         (1254, 5): 0.9712012125805229,\n         (982, 7): 0.9291398256915498,\n         (1195, 11): 0.9984842743463433,\n         (649, 25): 0.9712012125805229,\n         (775, 27): 0.9768851837817355,\n         (387, 29): 0.9935581659719591,\n         (2301, 31): 0.9530125047366427,\n         (531, 33): 0.9958317544524441,\n         (378, 1): 0.9856006062902615,\n         (1127, 18): 0.9954528230390299,\n         (423, 25): 0.9882531261841606,\n         (929, 27): 0.9988632057597575,\n         (1304, 29): 0.9996210685865858,\n         (323, 33): 0.9973474801061007,\n         (1807, 1): 0.8260704812428951,\n         (466, 21): 0.978021978021978,\n         (2030, 23): 0.9666540356195529,\n         (946, 25): 0.991284577491474,\n         (1560, 27): 0.8783630162940508,\n         (812, 29): 0.9632436528988253,\n         (1735, 31): 0.9776430466085638,\n         (669, 1): 0.8685107995452823,\n         (3510, 3): 0.8495642288745737,\n         (2301, 5): 0.9454338764683592,\n         (888, 7): 0.9496021220159151,\n         (2566, 9): 0.9897688518378174,\n         (2529, 18): 0.9984842743463433,\n         (1526, 23): 0.9787798408488063,\n         (2275, 25): 0.874573702159909,\n         (3519, 29): 0.8018188707843881,\n         (2799, 33): 0.9897688518378174,\n         (1945, 1): 0.691549829480864,\n         (1147, 3): 0.9484653277756726,\n         (2376, 5): 0.9984842743463433,\n         (1957, 7): 0.7476316786661614,\n         (781, 18): 0.9488442591890868,\n         (1945, 21): 0.1049640015157256,\n         (458, 23): 0.5812807881773399,\n         (3242, 25): 0.9939370973853733,\n         (1856, 29): 0.9719590754073513,\n         (1190, 31): 0.8935202728306176,\n         (516, 33): 0.9712012125805229,\n         (2911, 1): 0.9829480863963622,\n         (2391, 3): 0.969306555513452,\n         (2573, 5): 0.8719211822660098,\n         (1470, 18): 0.9802955665024631,\n         (2573, 21): 0.7745358090185677,\n         (2573, 23): 0.8075028419856006,\n         (2573, 25): 0.830238726790451,\n         (1470, 27): 0.9772641151951497,\n         (2573, 29): 0.8741947707464949,\n         (2573, 31): 0.8707843880257673,\n         (1145, 3): 0.967032967032967,\n         (3024, 5): 0.997726411519515,\n         (2624, 7): 0.9723380068207654,\n         (2264, 9): 0.9905267146646457,\n         (816, 13): 0.9283819628647215,\n         (808, 18): 0.9878741947707464,\n         (808, 25): 0.9821902235695339,\n         (808, 29): 0.9730958696475938,\n         (808, 31): 0.9791587722622206,\n         (816, 33): 0.4600227358848048,\n         (3519, 1): 0.9064039408866995,\n         (1701, 3): 0.9859795377036756,\n         (2907, 5): 0.986737400530504,\n         (248, 7): 0.9958317544524441,\n         (1190, 9): 0.8938992042440318,\n         (3488, 18): 0.9276241000378931,\n         (1111, 25): 0.969306555513452,\n         (1957, 27): 0.559302766199318,\n         (2971, 29): 0.9613489958317545,\n         (1957, 31): 0.7374005305039788,\n         (1701, 33): 0.9874952633573323,\n         (894, 3): 0.9359605911330049,\n         (1620, 5): 0.9981053429329292,\n         (590, 18): 0.9871163319439181,\n         (2267, 21): 0.9734748010610079,\n         (1779, 23): 0.9840848806366048,\n         (878, 25): 0.9958317544524441,\n         (3017, 27): 0.993179234558545,\n         (1145, 29): 0.9802955665024631,\n         (2267, 31): 0.9856006062902615,\n         (2267, 33): 0.9768851837817355,\n         (458, 1): 0.8003031451307313,\n         (2744, 3): 0.9958317544524441,\n         (2910, 5): 0.9010989010989011,\n         (1957, 18): 0.8200075786282683,\n         (1957, 21): 0.6294050776809397,\n         (2574, 23): 0.8802576733611216,\n         (458, 25): 0.8120500189465707,\n         (3034, 27): 0.9230769230769231,\n         (3034, 29): 0.9598332701780977,\n         (2294, 31): 0.9973474801061007,\n         (1925, 1): 0.9962106858658583,\n         (1190, 3): 0.9117089806744979,\n         (2182, 18): 0.9776430466085638,\n         (1970, 21): 0.9825691549829481,\n         (2719, 25): 0.9632436528988253,\n         (894, 27): 0.8431223948465327,\n         (1760, 29): 0.9837059492231905,\n         (894, 31): 0.8836680560818492,\n         (2162, 33): 0.9518757104964002,\n         (2479, 1): 0.9727169382341796,\n         (2911, 3): 0.9518757104964002,\n         (2911, 5): 0.9136036377415688,\n         (3075, 21): 0.953770367563471,\n         (1760, 23): 0.9939370973853733,\n         (1805, 25): 0.3122394846532778,\n         (2881, 27): 0.9189086775293672,\n         (1805, 29): 0.4497915877226222,\n         (1805, 31): 0.555134520651762,\n         (1083, 40): 0.8472906403940886,\n         (3071, 1): 0.8404698749526336,\n         (3513, 3): 0.9556650246305418,\n         (1190, 5): 0.8779840848806366,\n         (2311, 7): 0.9962106858658583,\n         (808, 21): 0.984463812050019,\n         (1806, 27): 0.5846911708980674,\n         (3155, 3): 0.9871163319439181,\n         (1890, 5): 0.9992421371731717,\n         (2393, 7): 0.9564228874573703,\n         (2415, 11): 0.8381962864721485,\n         (3517, 18): 0.931792345585449,\n         (2079, 21): 0.9969685486926866,\n         (2229, 23): 0.9981053429329292,\n         (1106, 27): 0.9761273209549072,\n         (1970, 33): 0.9856006062902615,\n         (1072, 42): 0.9882531261841606,\n         (348, 1): 0.9882531261841606,\n         (864, 3): 0.9928003031451307,\n         (2744, 5): 0.9969685486926866,\n         (986, 18): 0.7605153467222433,\n         (2627, 25): 0.9010989010989011,\n         (2759, 27): 0.9784009094353922,\n         (410, 29): 0.6248579007199697,\n         (2437, 1): 0.9575596816976127,\n         (410, 3): 0.9272451686244789,\n         (816, 5): 0.6502463054187192,\n         (816, 7): 0.5922697991663508,\n         (789, 9): 0.9962106858658583,\n         (2128, 11): 0.9909056460780599,\n         (2156, 18): 0.9988632057597575,\n         (3082, 21): 0.9761273209549072,\n         (2120, 25): 0.9988632057597575,\n         (878, 27): 0.9981053429329292,\n         (426, 29): 0.8954149298976886,\n         (2228, 31): 0.9897688518378174,\n         (789, 33): 0.9833270178097764,\n         (1732, 1): 0.8491852974611596,\n         (3519, 3): 0.9253505115574081,\n         (2079, 5): 0.9882531261841606,\n         (3517, 7): 0.9802955665024631,\n         (3134, 18): 0.9984842743463433,\n         (2415, 21): 0.8969306555513452,\n         (817, 23): 0.8931413414172035,\n         (817, 29): 0.8749526335733232,\n         (818, 31): 0.9655172413793104,\n         (818, 33): 0.9636225843122395,\n         (3060, 1): 0.8878363016294051,\n         (1805, 3): 0.5377036756347101,\n         (1147, 5): 0.9590754073512694,\n         (825, 7): 0.9776430466085638,\n         (2415, 9): 0.5975748389541493,\n         (2311, 11): 0.9943160287987874,\n         (1190, 13): 0.9552860932171277,\n         (2212, 18): 0.8753315649867374,\n         (1701, 21): 0.9916635089048882,\n         (3014, 23): 0.9988632057597575,\n         (2244, 25): 0.9954528230390299,\n         (2900, 27): 0.9787798408488063,\n         (1052, 29): 0.9996210685865858,\n         (1805, 33): 0.3164077302008337,\n         (170, 1): 0.9749905267146647,\n         (986, 3): 0.697991663508905,\n         (1945, 7): 0.583554376657825,\n         (2391, 11): 0.9727169382341796,\n         (2437, 13): 0.9984842743463433,\n         (2221, 18): 0.997726411519515,\n         (2908, 21): 0.9924213717317165,\n         (3011, 23): 0.9996210685865858,\n         (1019, 25): 0.9958317544524441,\n         (518, 27): 0.9965896172792724,\n         (523, 29): 0.9965896172792724,\n         (986, 31): 0.632057597574839,\n         (2769, 1): 0.9905267146646457,\n         (1970, 5): 0.991284577491474,\n         (1006, 7): 0.9973474801061007,\n         (2393, 11): 0.9704433497536946,\n         (2910, 13): 0.9568018188707844,\n         (2769, 18): 0.9950738916256158,\n         (2442, 21): 0.9791587722622206,\n         (3075, 23): 0.9352027283061766,\n         (3068, 25): 0.8340280409245926,\n         (2900, 29): 0.9681697612732095,\n         (3467, 1): 0.9397499052671466,\n         (648, 3): 0.9238347859037515,\n         (1805, 5): 0.44259189086775297,\n         (2748, 7): 0.9992421371731717,\n         (1296, 18): 0.9935581659719591,\n         (1805, 21): 0.10989010989010994,\n         (1805, 23): 0.2868510799545282,\n         (2348, 25): 0.9984842743463433,\n         (410, 27): 0.8309965896172793,\n         (3496, 29): 0.9727169382341796,\n         (3496, 31): 0.9814323607427056,\n         (888, 1): 0.969306555513452,\n         (975, 18): 0.9742326638878362,\n         (975, 21): 0.9249715801439939,\n         (1015, 23): 0.9465706707086018,\n         (975, 25): 0.8980674497915877,\n         (1965, 27): 0.8097764304660856,\n         (887, 29): 0.9651383099658962,\n         (888, 31): 0.8950359984842744,\n         (1147, 33): 0.9518757104964002,\n         (1147, 1): 0.9545282303902993,\n         (797, 3): 0.9742326638878362,\n         (2883, 5): 0.9829480863963622,\n         (1141, 21): 0.945054945054945,\n         (1147, 23): 0.8760894278135658,\n         (1141, 25): 0.8995831754452444,\n         (3155, 27): 0.9943160287987874,\n         (2769, 29): 0.9893899204244032,\n         (817, 31): 0.8893520272830617,\n         (805, 33): 0.9594543387646836,\n         (888, 18): 0.8298597953770368,\n         (1395, 21): 0.845774914740432,\n         (1144, 23): 0.8450170519136037,\n         (186, 31): 0.984463812050019,\n         (1010, 33): 0.7351269420234938,\n         (1297, 3): 0.991284577491474,\n         (986, 5): 0.612353164077302,\n         (1190, 7): 0.9575596816976127,\n         (2391, 9): 0.9746115953012505,\n         (1601, 18): 0.9435392194012884,\n         (3195, 21): 0.997726411519515,\n         (986, 25): 0.3698370594922319,\n         (986, 27): 0.6384994316028798,\n         (1701, 29): 0.9753694581280788,\n         (1111, 31): 0.9685486926866237,\n         (986, 33): 0.5058734369079196,\n         (2391, 1): 0.9662751042061387,\n         (3496, 3): 0.9920424403183024,\n         (1147, 9): 0.9738537324744221,\n         (1147, 11): 0.9928003031451307,\n         (994, 13): 0.9969685486926866,\n         (1147, 14): 0.9950738916256158,\n         (2391, 18): 0.9621068586585828,\n         (1015, 21): 0.9996210685865858,\n         (2415, 23): 0.859037514209928,\n         (1147, 25): 0.9374763167866617,\n         (2755, 27): 0.9928003031451307,\n         (1379, 29): 0.9700644183402805,\n         (1379, 31): 0.9617279272451686,\n         (1970, 1): 0.9893899204244032,\n         (2624, 3): 0.9556650246305418,\n         (2624, 18): 0.9651383099658962,\n         (2624, 21): 0.9090564607805987,\n         (1849, 25): 0.9996210685865858,\n         (2624, 31): 0.951496779082986,\n         (3332, 33): 0.991284577491474,\n         (2415, 7): 0.773020083364911,\n         (2182, 11): 0.9973474801061007,\n         (3069, 18): 0.8332701780977643,\n         (343, 21): 0.9909056460780599,\n         (780, 23): 0.9605911330049262,\n         (1805, 27): 0.5320197044334976,\n         (811, 31): 0.7499052671466464,\n         (1957, 33): 0.6809397499052672,\n         (1965, 1): 0.8840469874952633,\n         (350, 3): 0.9928003031451307,\n         (3448, 5): 0.9840848806366048,\n         (2552, 21): 0.9954528230390299,\n         (2552, 23): 0.9969685486926866,\n         (2552, 25): 0.9950738916256158,\n         (3146, 29): 0.9465706707086018,\n         (2914, 31): 0.9723380068207654,\n         (2881, 33): 0.969306555513452,\n         (2128, 3): 0.9920424403183024,\n         (2905, 5): 0.9662751042061387,\n         (896, 7): 0.9837059492231905,\n         (896, 9): 0.9734748010610079,\n         (1971, 11): 0.9795377036756348,\n         (2264, 13): 0.9742326638878362,\n         (1806, 14): 0.9238347859037515,\n         (1190, 15): 0.9605911330049262,\n         (1225, 18): 0.993179234558545,\n         (3090, 21): 0.9981053429329292,\n         (2128, 23): 0.989010989010989,\n         (2573, 27): 0.8927624100037893,\n         (894, 29): 0.8427434634331186,\n         (895, 31): 0.9245926487305798,\n         (894, 33): 0.9363395225464191,\n         (3496, 5): 0.9939370973853733,\n         (2626, 7): 0.9878741947707464,\n         (887, 21): 0.9928003031451307,\n         (682, 23): 0.9943160287987874,\n         (887, 27): 0.9655172413793104,\n         (580, 33): 0.9772641151951497,\n         (2900, 1): 0.9723380068207654,\n         (710, 7): 0.9533914361500568,\n         (3195, 11): 0.9981053429329292,\n         (3531, 21): 0.9814323607427056,\n         (1106, 23): 0.9909056460780599,\n         (2900, 25): 0.9730958696475938,\n         (1970, 27): 0.9791587722622206,\n         (2904, 33): 0.9605911330049262,\n         (3410, 1): 0.9101932550208413,\n         (2264, 3): 0.9715801439939371,\n         (2078, 5): 0.9458128078817734,\n         (2264, 7): 0.9795377036756348,\n         (1604, 9): 0.9939370973853733,\n         (3056, 11): 0.9939370973853733,\n         (1139, 18): 0.9681697612732095,\n         (1139, 21): 0.967032967032967,\n         (1701, 23): 0.9810534293292914,\n         (1701, 25): 0.9886320575975749,\n         (2264, 31): 0.9674118984463812,\n         (3519, 33): 0.9113300492610837,\n         (2574, 1): 0.9367184539598332,\n         (825, 3): 0.9264873057976506,\n         (1139, 5): 0.9700644183402805,\n         (2971, 21): 0.9905267146646457,\n         (470, 23): 0.913982569154983,\n         (2971, 25): 0.9852216748768473,\n         (1190, 27): 0.8582796513830997,\n         (2391, 31): 0.9863584691170898,\n         (825, 33): 0.9041303524062145,\n         (2806, 1): 0.7877984084880636,\n         (2234, 3): 0.8571428571428572,\n         (1806, 5): 0.45244410761652143,\n         (1806, 7): 0.7722622205380826,\n         (2574, 9): 0.9719590754073513,\n         (1145, 21): 0.9677908298597954,\n         (350, 23): 0.9920424403183024,\n         (3069, 33): 0.9484653277756726,\n         (309, 1): 0.9636225843122395,\n         (1572, 5): 0.9378552482000758,\n         (1144, 18): 0.9677908298597954,\n         (410, 21): 0.9814323607427056,\n         (895, 23): 0.9287608942781357,\n         (2066, 25): 0.989010989010989,\n         (3239, 27): 0.9753694581280788,\n         (2066, 29): 0.9905267146646457,\n         (2108, 31): 0.9946949602122016,\n         (3055, 33): 0.9965896172792724,\n         (2426, 1): 0.986737400530504,\n         (828, 3): 0.905267146646457,\n         (2193, 5): 0.9833270178097764,\n         (1944, 7): 0.3918150814702539,\n         (828, 9): 0.9909056460780599,\n         (2193, 18): 0.993179234558545,\n         (3034, 23): 0.8954149298976886,\n         (3034, 25): 0.9484653277756726,\n         (491, 31): 0.9939370973853733,\n         (2783, 33): 0.9749905267146647,\n         (1968, 3): 0.9829480863963622,\n         (3230, 5): 0.9981053429329292,\n         (1147, 7): 0.9609700644183403,\n         (771, 18): 0.9924213717317165,\n         (1147, 21): 0.9056460780598712,\n         (3241, 23): 0.9893899204244032,\n         (3246, 25): 0.9939370973853733,\n         (820, 27): 0.7639257294429709,\n         (1853, 29): 0.9765062523683213,\n         (1573, 31): 0.9946949602122016,\n         (3281, 33): 0.9920424403183024,\n         (1567, 1): 0.9802955665024631,\n         (3487, 5): 0.9939370973853733,\n         (243, 27): 0.9234558544903373,\n         (1955, 29): 0.9856006062902615,\n         (3034, 31): 0.967032967032967,\n         (1966, 33): 0.8874573702159909,\n         (823, 1): 0.9746115953012505,\n         (1144, 3): 0.9151193633952255,\n         (2282, 5): 0.9928003031451307,\n         (1144, 7): 0.9704433497536946,\n         (1968, 9): 0.9924213717317165,\n         (823, 11): 0.9806744979158772,\n         (823, 13): 0.9640015157256536,\n         (823, 18): 0.9730958696475938,\n         (820, 21): 0.737779461917393,\n         (823, 23): 0.9833270178097764,\n         (820, 25): 0.8294808639636226,\n         (820, 29): 0.773020083364911,\n         (820, 31): 0.8059871163319439,\n         (820, 33): 0.8078817733990148,\n         (465, 1): 0.9840848806366048,\n         (895, 3): 0.9435392194012884,\n         (2442, 5): 0.9321712769988633,\n         (708, 7): 0.9029935581659719,\n         (382, 9): 0.9981053429329292,\n         (309, 18): 0.9522546419098143,\n         (810, 21): 0.9499810534293293,\n         (810, 23): 0.9454338764683592,\n         (309, 25): 0.9370973853732474,\n         (1383, 29): 0.9530125047366427,\n         (1147, 31): 0.9662751042061387,\n         (895, 33): 0.9189086775293672,\n         (3474, 5): 0.8340280409245926,\n         (3397, 18): 0.9973474801061007,\n         (73, 21): 0.9992421371731717,\n         (461, 23): 0.9969685486926866,\n         (1860, 25): 0.997726411519515,\n         (1860, 27): 0.997726411519515,\n         (461, 29): 0.9943160287987874,\n         (1144, 31): 0.9340659340659341,\n         (982, 33): 0.764304660856385,\n         (2491, 3): 0.9988632057597575,\n         (3514, 5): 0.9886320575975749,\n         (1719, 18): 0.9658961727927245,\n         (3455, 21): 0.8688897309586965,\n         (1832, 23): 0.9992421371731717,\n         (498, 25): 0.9973474801061007,\n         (318, 27): 0.9924213717317165,\n         (1945, 29): 0.6002273588480485,\n         (3455, 31): 0.94278135657446,\n         (3455, 33): 0.920803334596438,\n         (1621, 1): 0.9848427434634331,\n         (2408, 3): 0.9810534293292914,\n         (2432, 5): 0.986737400530504,\n         (1947, 18): 0.9905267146646457,\n         (3514, 25): 0.9681697612732095,\n         (895, 27): 0.8938992042440318,\n         (895, 29): 0.9098143236074271,\n         (756, 31): 0.9981053429329292,\n         (1947, 33): 0.9753694581280788,\n         (411, 1): 0.945054945054945,\n         (435, 18): 0.9852216748768473,\n         (309, 21): 0.9674118984463812,\n         (1359, 23): 0.9909056460780599,\n         (1957, 25): 0.7305797650625236,\n         (1957, 29): 0.7896930655551345,\n         (2166, 31): 0.9939370973853733,\n         (2182, 1): 0.9802955665024631,\n         (2408, 18): 0.9609700644183403,\n         (780, 25): 0.9310344827586207,\n         (649, 27): 0.967032967032967,\n         (1526, 29): 0.9533914361500568,\n         (649, 31): 0.9302766199317923,\n         (1183, 33): 0.9310344827586207,\n         (3156, 1): 0.9389920424403183,\n         (2254, 3): 0.969306555513452,\n         (2254, 5): 0.9352027283061766,\n         (3509, 18): 0.9924213717317165,\n         (2355, 21): 0.9950738916256158,\n         (3533, 23): 0.9905267146646457,\n         (1944, 27): 0.03524062144751805,\n         (982, 29): 0.8601743084501705,\n         (982, 31): 0.894278135657446,\n         (2428, 33): 0.9886320575975749,\n         (2715, 1): 0.9132247063281546,\n         (467, 3): 0.9818112921561197,\n         (467, 18): 0.9837059492231905,\n         (1573, 21): 0.9969685486926866,\n         (3452, 23): 0.962485790071997,\n         (3474, 25): 0.9700644183402805,\n         (2715, 27): 0.870026525198939,\n         (467, 33): 0.984463812050019,\n         (140, 1): 0.9545282303902993,\n         (2591, 3): 0.9954528230390299,\n         (1900, 5): 0.9874952633573323,\n         (2775, 7): 0.9689276241000379,\n         (3455, 18): 0.9499810534293293,\n         (772, 21): 0.9943160287987874,\n         (769, 23): 0.978021978021978,\n         (769, 25): 0.9840848806366048,\n         (3455, 27): 0.9158772262220538,\n         (3455, 29): 0.9420234937476317,\n         (1144, 5): 0.964759378552482,\n         (3270, 7): 0.9996210685865858,\n         (2705, 9): 0.997726411519515,\n         (711, 11): 0.9681697612732095,\n         (2573, 13): 0.9583175445244411,\n         (2573, 18): 0.8211443728685108,\n         (3246, 23): 0.9969685486926866,\n         (1573, 25): 0.9939370973853733,\n         (3258, 27): 0.9996210685865858,\n         (1338, 29): 0.854490337248958,\n         (3280, 33): 0.993179234558545,\n         (3278, 1): 0.9992421371731717,\n         (473, 3): 0.9837059492231905,\n         (1564, 5): 0.8469117089806745,\n         (2402, 7): 0.9712012125805229,\n         (1459, 18): 0.9909056460780599,\n         (987, 29): 0.9878741947707464,\n         (987, 31): 0.9886320575975749,\n         (2573, 33): 0.8446381205001895,\n         (3399, 1): 0.9749905267146647,\n         (824, 3): 0.9261083743842364,\n         (810, 5): 0.9325502084122774,\n         (2914, 7): 0.9185297461159531,\n         (2430, 9): 0.9082985979537703,\n         (2406, 11): 0.9772641151951497,\n         (1926, 13): 0.9988632057597575,\n         (3399, 18): 0.9928003031451307,\n         (3281, 23): 0.9984842743463433,\n         (1483, 25): 0.9969685486926866,\n         (781, 27): 0.9776430466085638,\n         (3492, 29): 0.870026525198939,\n         (3448, 31): 0.9859795377036756,\n         (824, 33): 0.9397499052671466,\n         (2432, 9): 0.9746115953012505,\n         (2408, 11): 0.9950738916256158,\n         (1564, 13): 0.946949602122016,\n         (140, 18): 0.991284577491474,\n         (1956, 21): 0.9897688518378174,\n         (1916, 23): 0.9992421371731717,\n         (2697, 25): 0.9984842743463433,\n         (307, 27): 0.989010989010989,\n         (313, 29): 0.9367184539598332,\n         (2276, 1): 0.8961727927245169,\n         (3455, 3): 0.9461917392951875,\n         (2426, 9): 0.9818112921561197,\n         (2402, 11): 0.9821902235695339,\n         (1555, 13): 0.993179234558545,\n         (2276, 18): 0.9598332701780977,\n         (895, 21): 0.9784009094353922,\n         (1832, 25): 0.9992421371731717,\n         (3241, 27): 0.9897688518378174,\n         (3241, 29): 0.9776430466085638,\n         (3112, 1): 0.9632436528988253,\n         (3280, 18): 0.9984842743463433,\n         (982, 21): 0.768851837817355,\n         (2705, 25): 0.9886320575975749,\n         (3246, 27): 0.9958317544524441,\n         (1458, 29): 0.9628647214854111,\n         (415, 31): 0.9621068586585828,\n         (981, 1): 0.9965896172792724,\n         (820, 18): 0.8003031451307313,\n         (1012, 23): 0.9556650246305418,\n         (648, 29): 0.9124668435013262,\n         (817, 33): 0.8453959833270178,\n         (1144, 1): 0.9310344827586207,\n         (821, 3): 0.907540735126942,\n         (824, 5): 0.9640015157256536,\n         (828, 18): 0.9272451686244789,\n         (828, 21): 0.940507768093975,\n         (1956, 23): 0.9772641151951497,\n         (1956, 25): 0.9837059492231905,\n         (3159, 27): 0.9958317544524441,\n         (3159, 29): 0.9981053429329292,\n         (824, 31): 0.9367184539598332,\n         (828, 33): 0.9014778325123153,\n         (1968, 1): 0.9829480863963622,\n         (417, 7): 0.9897688518378174,\n         (895, 11): 0.9886320575975749,\n         (895, 13): 0.9909056460780599,\n         (820, 14): 0.9787798408488063,\n         (1621, 15): 0.991284577491474,\n         (2411, 16): 0.997726411519515,\n         (3112, 17): 0.997726411519515,\n         (465, 21): 0.9715801439939371,\n         (309, 23): 0.9416445623342176,\n         (3248, 27): 0.9753694581280788,\n         (3459, 29): 0.9848427434634331,\n         (533, 31): 0.9893899204244032,\n         (2960, 33): 0.9928003031451307,\n         (1306, 1): 0.975748389541493,\n         (438, 3): 0.9893899204244032,\n         (2194, 18): 0.9905267146646457,\n         (3409, 21): 0.8594164456233422,\n         (828, 23): 0.9268662372110648,\n         (1968, 27): 0.9837059492231905,\n         (412, 29): 0.9507389162561576,\n         (486, 31): 0.986737400530504,\n         (2577, 33): 0.989010989010989,\n         (2772, 1): 0.9439181508147025,\n         (1147, 18): 0.9753694581280788,\n         (3027, 23): 0.9984842743463433,\n         (1564, 25): 0.9192876089427814,\n         (307, 29): 0.9723380068207654,\n         (307, 31): 0.9901477832512315,\n         (648, 33): 0.9488442591890868,\n         (1675, 1): 0.9958317544524441,\n         (1945, 3): 0.6919287608942781,\n         (3455, 5): 0.9306555513452065,\n         (2426, 7): 0.9871163319439181,\n         (2194, 11): 0.997726411519515,\n         (2194, 13): 0.9992421371731717,\n         (318, 18): 0.9874952633573323,\n         (2556, 21): 0.9776430466085638,\n         (1947, 1): 0.984463812050019,\n         (1394, 3): 0.9924213717317165,\n         (895, 5): 0.9458128078817734,\n         (1872, 21): 0.9837059492231905,\n         (1872, 23): 0.9935581659719591,\n         (1872, 25): 0.9859795377036756,\n         (2408, 29): 0.9916635089048882,\n         (1574, 31): 0.9965896172792724,\n         (3490, 1): 0.9378552482000758,\n         (3514, 3): 0.9605911330049262,\n         (1947, 7): 0.9802955665024631,\n         (2846, 9): 0.9984842743463433,\n         (3514, 11): 0.969306555513452,\n         (895, 18): 0.8200075786282683,\n         (3069, 25): 0.8522167487684729,\n         (2411, 29): 0.9882531261841606,\n         (2432, 31): 0.9837059492231905,\n         (471, 3): 0.9878741947707464,\n         (2491, 5): 0.9962106858658583,\n         (817, 7): 0.9526335733232285,\n         (895, 9): 0.8863205759757484,\n         (1957, 11): 0.9473285335354301,\n         (795, 13): 0.9981053429329292,\n         (3455, 14): 0.9965896172792724,\n         (2436, 15): 0.9981053429329292,\n         (848, 18): 0.9962106858658583,\n         (471, 23): 0.9939370973853733,\n         (3455, 25): 0.8620689655172413,\n         (795, 27): 0.9833270178097764,\n         (629, 31): 0.9708222811671088,\n         (2905, 33): 0.9795377036756348,\n         (2066, 3): 0.9571807502841986,\n         (425, 5): 0.9874952633573323,\n         (3455, 7): 0.9560439560439561,\n         (3065, 23): 0.9651383099658962,\n         (3065, 25): 0.9431602879878742,\n         (2970, 31): 0.9939370973853733,\n         (3019, 33): 0.9893899204244032,\n         (3492, 11): 0.9893899204244032,\n         (318, 25): 0.984463812050019,\n         (1138, 27): 0.9776430466085638,\n         (309, 29): 0.9412656309208033,\n         (1555, 27): 0.9746115953012505,\n         (2174, 29): 0.9965896172792724,\n         (1621, 31): 0.9727169382341796,\n         (2970, 33): 0.9962106858658583,\n         (3448, 1): 0.9352027283061766,\n         (2996, 5): 0.9480863963622584,\n         (3513, 21): 0.967032967032967,\n         (3516, 23): 0.8560060629026146,\n         (1380, 25): 0.9950738916256158,\n         (937, 27): 0.8836680560818492,\n         (2627, 29): 0.894278135657446,\n         (1741, 31): 0.9946949602122016,\n         (410, 1): 0.8139446760136415,\n         (410, 7): 0.9189086775293672,\n         (819, 13): 0.9795377036756348,\n         (819, 14): 0.9871163319439181,\n         (3518, 15): 0.9863584691170898,\n         (1207, 16): 0.9988632057597575,\n         (2189, 17): 0.997726411519515,\n         (1504, 18): 0.9526335733232285,\n         (3507, 21): 0.9897688518378174,\n         (1178, 23): 0.960212201591512,\n         (410, 25): 0.6483516483516483,\n         (1178, 27): 0.9632436528988253,\n         (1178, 31): 0.9859795377036756,\n         (718, 33): 0.993179234558545,\n         (1530, 1): 0.9715801439939371,\n         (1826, 3): 0.9981053429329292,\n         (2889, 18): 0.9984842743463433,\n         (3411, 21): 0.9230769230769231,\n         (829, 23): 0.9454338764683592,\n         (829, 27): 0.9283819628647215,\n         (1178, 29): 0.9272451686244789,\n         (3528, 31): 0.9734748010610079,\n         (2003, 33): 0.9958317544524441,\n         (3146, 31): 0.8666161424782115,\n         (3146, 33): 0.7188328912466844,\n         (1207, 1): 0.997726411519515,\n         (1796, 3): 0.9996210685865858,\n         ...})"
     },
     "execution_count": 70,
     "metadata": {},
     "output_type": "execute_result"
    }
   ],
   "source": [
    "occurrences_scores"
   ]
  },
  {
   "cell_type": "code",
   "execution_count": 71,
   "id": "0745f688",
   "metadata": {
    "pycharm": {
     "name": "#%%\n"
    }
   },
   "outputs": [
    {
     "data": {
      "text/plain": "32479"
     },
     "execution_count": 71,
     "metadata": {},
     "output_type": "execute_result"
    }
   ],
   "source": [
    "len(occurrences_scores.keys())"
   ]
  },
  {
   "cell_type": "code",
   "execution_count": 72,
   "id": "7a2a3e81",
   "metadata": {
    "pycharm": {
     "name": "#%%\n"
    }
   },
   "outputs": [
    {
     "data": {
      "text/plain": "array([  2690,   2735,   2736, ..., 183494, 183497, 183579], dtype=int64)"
     },
     "execution_count": 72,
     "metadata": {},
     "output_type": "execute_result"
    }
   ],
   "source": [
    "fact_challenge = fact_challenge.dropna()\n",
    "fact_challenge[\"user_id\"].unique()"
   ]
  },
  {
   "cell_type": "code",
   "execution_count": 73,
   "id": "9c6b7611",
   "metadata": {
    "pycharm": {
     "name": "#%%\n"
    }
   },
   "outputs": [],
   "source": [
    "def calculate_absolute_leaders(relevent_data, profile_snapshot):\n",
    "    normlized_peer_and_rating = normlize_data(relevent_data, 'user_id')\n",
    "    # get last snapshot per user\n",
    "\n",
    "    # extract only columns: user_id, current_level, total_challanges...\n",
    "    profile_snapshot_relevent_cols = profile_snapshot[['user_id','current_level_pass', 'total_n_challenge_publish_lt', 'total_challenges_publish_last_30_days']]\n",
    "    normlized_level_and_challanges = normlize_data(profile_snapshot_relevent_cols, 'user_id')\n",
    "    merged_df= pd.merge(normlized_peer_and_rating, normlized_level_and_challanges, how='inner', on = 'user_id').values\n",
    "\n",
    "    only_features = merged_df[:,1:6]\n",
    "    user_ids = merged_df[:,0:1]\n",
    "    weights_vector = [0.2, 0.3, 0.125, 0.125, 0.25]\n",
    "\n",
    "    scores = np.matmul(only_features, weights_vector)\n",
    "    user_ids_scores = np.concatenate((user_ids, scores.reshape((len(scores), 1))), axis =1)\n",
    "    return user_ids_scores[user_ids_scores[:, 1].argsort()[::-1]]"
   ]
  },
  {
   "cell_type": "code",
   "execution_count": 74,
   "id": "b74d9cf1",
   "metadata": {
    "pycharm": {
     "name": "#%%\n"
    }
   },
   "outputs": [],
   "source": [
    "def normlize_data(df, ignore_col):\n",
    "    copied_df = df.copy()\n",
    "    for column in copied_df:\n",
    "        if(column != \"user_id\"):\n",
    "            copied_df[column] = (copied_df[column] - copied_df[column].min()) / \\\n",
    "                                (copied_df[column].max() - copied_df[column].min())\n",
    "    return copied_df"
   ]
  },
  {
   "cell_type": "code",
   "execution_count": 75,
   "id": "94fe77c3",
   "metadata": {},
   "outputs": [],
   "source": [
    "relevent_user_ids = fact_challenge['user_id'].unique()"
   ]
  },
  {
   "cell_type": "code",
   "execution_count": 76,
   "id": "16b00b5d",
   "metadata": {
    "pycharm": {
     "name": "#%%\n"
    }
   },
   "outputs": [],
   "source": [
    "challenges_finished = pd.read_csv('challenges_finished.csv')\n",
    "challenges_finished = challenges_finished[challenges_finished['user_id'].isin(relevent_user_ids)]\n",
    "relevent_data = challenges_finished[['user_id','rating','peer_position']]\n",
    "relevent_data = relevent_data.groupby('user_id').mean()"
   ]
  },
  {
   "cell_type": "code",
   "execution_count": 77,
   "id": "403e39b5",
   "metadata": {
    "pycharm": {
     "name": "#%%\n"
    }
   },
   "outputs": [],
   "source": [
    "profile_snapshot = pd.read_csv('profile_snapshot.csv')\n",
    "profile_snapshot = profile_snapshot[profile_snapshot['user_id'].isin(relevent_user_ids)]\n",
    "\n",
    "# filter -99 values from columns\n",
    "profile_snapshot = profile_snapshot[(profile_snapshot['current_level_pass']>=0) & (profile_snapshot['total_n_challenge_publish_lt']>=0) & (profile_snapshot['total_challenges_publish_last_30_days']>=0)]"
   ]
  },
  {
   "cell_type": "code",
   "execution_count": 78,
   "id": "0c8799f2",
   "metadata": {
    "pycharm": {
     "name": "#%%\n"
    }
   },
   "outputs": [
    {
     "name": "stdout",
     "output_type": "stream",
     "text": [
      "[ 20823.  89985.  81112.  31602.  10638.  73032.  35028.  17950.  67718.\n",
      " 143913.  88940.  37286.  74585.  97991. 106320.  10632.  29030.  76875.\n",
      "  15635.  98611.  35796.  40762.   9015.   6271.   7428.  48614.  77374.\n",
      " 164076.  84107.  37081.  66114.  94479. 127335.  43395.  29265.  34582.\n",
      " 106326. 118534.  31011.  41164. 151077. 174330.  91927. 141814.  71592.\n",
      "  47974.  89770.  57152. 108985.  61351.]\n"
     ]
    }
   ],
   "source": [
    "AMOUNT_OF_LEADERS = 50\n",
    "\n",
    "# list of leader's id's\n",
    "leaders = calculate_absolute_leaders(relevent_data, profile_snapshot)[:AMOUNT_OF_LEADERS][:, 0]\n",
    "print(leaders)\n",
    "\n",
    "# for each tuple of 2 user ids, returns their matching score\n",
    "matching_matrix = np.zeros(shape=(len(leaders), len(leaders)))"
   ]
  },
  {
   "cell_type": "code",
   "execution_count": 79,
   "id": "37a553ea",
   "metadata": {
    "pycharm": {
     "name": "#%%\n"
    }
   },
   "outputs": [],
   "source": [
    "def count_amount_of_actions_per_chioce(user_id):\n",
    "    # filter by action==assign_color\n",
    "    event_col = fact_challenge[\"event\"]\n",
    "    fact_challenge_color_events = fact_challenge[event_col == \"assign_color\"]\n",
    "\n",
    "    fact_challenge_filtered_by_user = fact_challenge_color_events[fact_challenge[\"user_id\"] == user_id]\n",
    "    res = fact_challenge_filtered_by_user.groupby([\"color_id\", \"item_id\"])[\"event_ts\"].count()\n",
    "    return res.to_dict()"
   ]
  },
  {
   "cell_type": "code",
   "execution_count": 80,
   "id": "f1dfeb18",
   "metadata": {
    "pycharm": {
     "name": "#%%\n"
    }
   },
   "outputs": [],
   "source": [
    "def count_amount_of_actions_per_chioce_per_user(user_ids):\n",
    "    # dictionary that takes user_id as key and returns the corresponding dictionary\n",
    "    action_counts_per_user = {}\n",
    "    for user in user_ids:\n",
    "        action_counts_per_user[user] = count_amount_of_actions_per_chioce(user)\n",
    "\n",
    "    return action_counts_per_user"
   ]
  },
  {
   "cell_type": "code",
   "execution_count": 81,
   "id": "1f4eebb2",
   "metadata": {},
   "outputs": [],
   "source": [
    "users_count_dictionary = count_amount_of_actions_per_chioce_per_user(leaders)"
   ]
  },
  {
   "cell_type": "code",
   "execution_count": 82,
   "id": "62d9f0fe",
   "metadata": {
    "pycharm": {
     "name": "#%%\n"
    }
   },
   "outputs": [
    {
     "name": "stdout",
     "output_type": "stream",
     "text": [
      "Wall time: 0 ns\n"
     ]
    }
   ],
   "source": [
    "def calculate_match_score(users_count_dictionary, i, j):\n",
    "    setA = set(users_count_dictionary[leaders[i]].keys())\n",
    "    setB = set(users_count_dictionary[leaders[j]].keys())\n",
    "    intersect = list(setA.intersection(setB))\n",
    "\n",
    "    matching_score = 0\n",
    "    for common_key in intersect:\n",
    "        minimal = min(users_count_dictionary[leaders[i]][common_key],\n",
    "                      users_count_dictionary[leaders[j]][common_key])\n",
    "        matching_score += minimal * occurrences_scores[common_key]\n",
    "    return matching_score\n",
    "\n",
    "def init_matching_matrix():\n",
    "    users_count_dictionary = count_amount_of_actions_per_chioce_per_user(leaders)\n",
    "    \n",
    "    for i, user_1 in enumerate(leaders):\n",
    "        for j, user_2 in enumerate(leaders):\n",
    "            if matching_matrix[j][i] > 0:\n",
    "                matching_matrix[i][j] = matching_matrix[j][i]\n",
    "            if i == j:\n",
    "                continue\n",
    "\n",
    "            matching_matrix[i][j] = calculate_match_score(users_count_dictionary, i, j)\n",
    "\n",
    "init_matching_matrix()\n",
    "%time"
   ]
  },
  {
   "cell_type": "code",
   "execution_count": 83,
   "id": "d7e97e7e",
   "metadata": {
    "pycharm": {
     "name": "#%%\n"
    }
   },
   "outputs": [
    {
     "data": {
      "text/plain": "array([[ 0.        , 31.61960947, 28.75165688, ..., 27.69179287,\n        23.87986011, 34.03639725],\n       [31.61960947,  0.        , 26.33740876, ..., 20.02299412,\n        33.08281123, 28.35617708],\n       [28.75165688, 26.33740876,  0.        , ..., 33.34760085,\n        44.55449229, 18.87987909],\n       ...,\n       [27.69179287, 20.02299412, 33.34760085, ...,  0.        ,\n        29.61624373, 29.01220272],\n       [23.87986011, 33.08281123, 44.55449229, ..., 29.61624373,\n         0.        , 21.01201869],\n       [34.03639725, 28.35617708, 18.87987909, ..., 29.01220272,\n        21.01201869,  0.        ]])"
     },
     "execution_count": 83,
     "metadata": {},
     "output_type": "execute_result"
    }
   ],
   "source": [
    "matching_matrix"
   ]
  },
  {
   "cell_type": "code",
   "execution_count": 84,
   "id": "08cf712b",
   "metadata": {
    "pycharm": {
     "name": "#%%\n"
    }
   },
   "outputs": [
    {
     "data": {
      "text/plain": "Text(0, 0.5, 'Frequency Value')"
     },
     "execution_count": 84,
     "metadata": {},
     "output_type": "execute_result"
    },
    {
     "data": {
      "text/plain": "<Figure size 880x560 with 1 Axes>",
      "image/png": "[encoded data removed]"
     },
     "metadata": {
      "needs_background": "light"
     },
     "output_type": "display_data"
    }
   ],
   "source": [
    "occurences = collections.Counter(item_color_lst)\n",
    "plt.figure(figsize=(11, 7), dpi=80)\n",
    "plt.scatter(occurences.values(), list(range(len(occurences.keys()))))\n",
    "plt.title(\"Popularity Of Each Combination\")\n",
    "plt.xlabel(\"Array Index\")\n",
    "plt.ylabel(\"Frequency Value\")"
   ]
  },
  {
   "cell_type": "code",
   "execution_count": 85,
   "id": "0d4c03e0",
   "metadata": {
    "pycharm": {
     "name": "#%%\n"
    }
   },
   "outputs": [
    {
     "data": {
      "text/plain": "Text(0, 0.5, 'Scores')"
     },
     "execution_count": 85,
     "metadata": {},
     "output_type": "execute_result"
    },
    {
     "data": {
      "text/plain": "<Figure size 770x490 with 1 Axes>",
      "image/png": "[encoded data removed]"
     },
     "metadata": {
      "needs_background": "light"
     },
     "output_type": "display_data"
    }
   ],
   "source": [
    "matrix_values = np.unique(matching_matrix)\n",
    "\n",
    "plt.figure(figsize=(11, 7), dpi=70)\n",
    "plt.scatter(list(range(matrix_values.shape[0])), matrix_values)\n",
    "plt.title(\"Matrix Values Distribution\")\n",
    "plt.xlabel(\"Array Index\")\n",
    "plt.ylabel(\"Scores\")"
   ]
  },
  {
   "cell_type": "code",
   "execution_count": 86,
   "id": "7a681ffa",
   "metadata": {
    "pycharm": {
     "name": "#%%\n"
    }
   },
   "outputs": [],
   "source": [
    "import math\n",
    "np.fill_diagonal(matching_matrix, math.inf)"
   ]
  },
  {
   "cell_type": "code",
   "execution_count": 87,
   "id": "132752a6",
   "metadata": {
    "pycharm": {
     "name": "#%%\n"
    }
   },
   "outputs": [],
   "source": [
    "def find_minimal_threshold(all_leaders):\n",
    "    global matching_matrix\n",
    "    # make sure the score is below threshold\n",
    "    total_min_score = 0\n",
    "    for row in matching_matrix:\n",
    "        min_score = row.min(axis=0)\n",
    "        if total_min_score < min_score:\n",
    "            total_min_score = min_score\n",
    "    print(f\"total min is: {total_min_score}\")\n",
    "    return total_min_score"
   ]
  },
  {
   "cell_type": "code",
   "execution_count": 88,
   "id": "0ef747cf",
   "metadata": {
    "pycharm": {
     "name": "#%%\n"
    }
   },
   "outputs": [
    {
     "name": "stdout",
     "output_type": "stream",
     "text": [
      "total min is: 73.477576358506\n"
     ]
    },
    {
     "data": {
      "text/plain": "73.477576358506"
     },
     "execution_count": 88,
     "metadata": {},
     "output_type": "execute_result"
    }
   ],
   "source": [
    "def find_good_leaders(all_leaders):\n",
    "    global matching_matrix\n",
    "    # make sure the score is below threshold\n",
    "    total_max_score = 0\n",
    "    i = 0\n",
    "    for row in matching_matrix:\n",
    "        current_row = row.tolist()\n",
    "        del current_row[i]\n",
    "        max_score = max(current_row)\n",
    "        i += 1\n",
    "        if total_max_score < max_score:\n",
    "            total_max_score = max_score\n",
    "    print(f\"total min is: {total_max_score}\")\n",
    "    return total_max_score\n",
    "find_good_leaders(leaders)"
   ]
  },
  {
   "cell_type": "code",
   "execution_count": 89,
   "id": "e886e0c3",
   "metadata": {
    "pycharm": {
     "name": "#%%\n"
    }
   },
   "outputs": [
    {
     "name": "stdout",
     "output_type": "stream",
     "text": [
      "total min is: 28.564184818234203\n"
     ]
    }
   ],
   "source": [
    "import random\n",
    "\n",
    "RECOMMEND_AMOUNT = 10\n",
    "THRESHOLD = find_minimal_threshold(leaders)\n",
    "random_select = random.randint(0, len(leaders))"
   ]
  },
  {
   "cell_type": "code",
   "execution_count": 90,
   "id": "19fcca97",
   "metadata": {
    "pycharm": {
     "name": "#%%\n"
    }
   },
   "outputs": [],
   "source": [
    "# use random selecting of a candidate then check that he matchs the least to others\n",
    "# solve collisions with linear hashing\n",
    "def recommend_for_client(leaders, matching_matrix, recommend_amount=RECOMMEND_AMOUNT):\n",
    "    all_leaders = leaders.copy()\n",
    "    tupled_leaders_and_indexes = list(zip(all_leaders, list(range(len(all_leaders)))))\n",
    "\n",
    "    first_select = random.randint(0, len(tupled_leaders_and_indexes))\n",
    "    recommended_list = []\n",
    "    recommended_list.append(tupled_leaders_and_indexes[0])\n",
    "\n",
    "    del tupled_leaders_and_indexes[first_select]\n",
    "    \n",
    "    if recommend_amount >= len(all_leaders):\n",
    "        print(\"error\")\n",
    "        return\n",
    "\n",
    "    for n in range(recommend_amount-1):\n",
    "        res_array = np.zeros(len(matching_matrix[0]))\n",
    "        for touple_leader in recommended_list:\n",
    "            res_array += matching_matrix[touple_leader[1]]\n",
    "        \n",
    "        res_array /= len(recommended_list)\n",
    "        for touple_leader in recommended_list:\n",
    "            res_array[touple_leader[1]] = math.inf\n",
    "            \n",
    "        candidate = np.argmin(res_array)\n",
    "        recommended_list.append((all_leaders[candidate], candidate))\n",
    "        tupled_leaders_and_indexes.remove((all_leaders[candidate],candidate))\n",
    "        \n",
    "    result = [touple_leader[0] for touple_leader in recommended_list]\n",
    "    return result"
   ]
  },
  {
   "cell_type": "code",
   "execution_count": 91,
   "id": "58c741a1",
   "metadata": {},
   "outputs": [
    {
     "name": "stdout",
     "output_type": "stream",
     "text": [
      "[20823.0, 9015.0, 7428.0, 6271.0, 61351.0, 10638.0, 97991.0, 74585.0, 81112.0, 151077.0]\n"
     ]
    }
   ],
   "source": [
    "recomend_list = recommend_for_client(leaders, matching_matrix)\n",
    "print (recomend_list)"
   ]
  },
  {
   "cell_type": "code",
   "execution_count": null,
   "id": "0e49f9b9",
   "metadata": {},
   "outputs": [],
   "source": []
  }
 ],
 "metadata": {
  "kernelspec": {
   "display_name": "Python 3 (ipykernel)",
   "language": "python",
   "name": "python3"
  },
  "language_info": {
   "codemirror_mode": {
    "name": "ipython",
    "version": 3
   },
   "file_extension": ".py",
   "mimetype": "text/x-python",
   "name": "python",
   "nbconvert_exporter": "python",
   "pygments_lexer": "ipython3",
   "version": "3.9.7"
  }
 },
 "nbformat": 4,
 "nbformat_minor": 5
}