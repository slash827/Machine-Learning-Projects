{
 "cells": [
  {
   "cell_type": "code",
   "execution_count": 207,
   "id": "fa8d34f4",
   "metadata": {},
   "outputs": [],
   "source": [
    "import pandas as pd\n",
    "import numpy as np\n",
    "import matplotlib.pyplot as plt\n",
    "import seaborn as sns\n",
    "from sklearn.model_selection import train_test_split\n",
    "from sklearn.preprocessing import StandardScaler\n",
    "from tensorflow.keras.models import Sequential, load_model\n",
    "from tensorflow.keras.layers import Dense\n",
    "from keras.callbacks import ModelCheckpoint, EarlyStopping"
   ]
  },
  {
   "cell_type": "code",
   "execution_count": 229,
   "outputs": [
    {
     "data": {
      "text/plain": "(284807, 31)"
     },
     "execution_count": 229,
     "metadata": {},
     "output_type": "execute_result"
    }
   ],
   "source": [
    "data = pd.read_csv(\"credit_card.csv\")\n",
    "# data = data.head(10000)\n",
    "data.shape"
   ],
   "metadata": {
    "collapsed": false,
    "pycharm": {
     "name": "#%%\n"
    }
   }
  },
  {
   "cell_type": "code",
   "execution_count": 230,
   "outputs": [
    {
     "data": {
      "text/plain": "   Time        V1        V2        V3        V4        V5        V6        V7  \\\n0   0.0 -1.359807 -0.072781  2.536347  1.378155 -0.338321  0.462388  0.239599   \n1   0.0  1.191857  0.266151  0.166480  0.448154  0.060018 -0.082361 -0.078803   \n2   1.0 -1.358354 -1.340163  1.773209  0.379780 -0.503198  1.800499  0.791461   \n3   1.0 -0.966272 -0.185226  1.792993 -0.863291 -0.010309  1.247203  0.237609   \n4   2.0 -1.158233  0.877737  1.548718  0.403034 -0.407193  0.095921  0.592941   \n\n         V8        V9  ...       V21       V22       V23       V24       V25  \\\n0  0.098698  0.363787  ... -0.018307  0.277838 -0.110474  0.066928  0.128539   \n1  0.085102 -0.255425  ... -0.225775 -0.638672  0.101288 -0.339846  0.167170   \n2  0.247676 -1.514654  ...  0.247998  0.771679  0.909412 -0.689281 -0.327642   \n3  0.377436 -1.387024  ... -0.108300  0.005274 -0.190321 -1.175575  0.647376   \n4 -0.270533  0.817739  ... -0.009431  0.798278 -0.137458  0.141267 -0.206010   \n\n        V26       V27       V28  Amount  Class  \n0 -0.189115  0.133558 -0.021053  149.62      0  \n1  0.125895 -0.008983  0.014724    2.69      0  \n2 -0.139097 -0.055353 -0.059752  378.66      0  \n3 -0.221929  0.062723  0.061458  123.50      0  \n4  0.502292  0.219422  0.215153   69.99      0  \n\n[5 rows x 31 columns]",
      "text/html": "<div>\n<style scoped>\n    .dataframe tbody tr th:only-of-type {\n        vertical-align: middle;\n    }\n\n    .dataframe tbody tr th {\n        vertical-align: top;\n    }\n\n    .dataframe thead th {\n        text-align: right;\n    }\n</style>\n<table border=\"1\" class=\"dataframe\">\n  <thead>\n    <tr style=\"text-align: right;\">\n      <th></th>\n      <th>Time</th>\n      <th>V1</th>\n      <th>V2</th>\n      <th>V3</th>\n      <th>V4</th>\n      <th>V5</th>\n      <th>V6</th>\n      <th>V7</th>\n      <th>V8</th>\n      <th>V9</th>\n      <th>...</th>\n      <th>V21</th>\n      <th>V22</th>\n      <th>V23</th>\n      <th>V24</th>\n      <th>V25</th>\n      <th>V26</th>\n      <th>V27</th>\n      <th>V28</th>\n      <th>Amount</th>\n      <th>Class</th>\n    </tr>\n  </thead>\n  <tbody>\n    <tr>\n      <th>0</th>\n      <td>0.0</td>\n      <td>-1.359807</td>\n      <td>-0.072781</td>\n      <td>2.536347</td>\n      <td>1.378155</td>\n      <td>-0.338321</td>\n      <td>0.462388</td>\n      <td>0.239599</td>\n      <td>0.098698</td>\n      <td>0.363787</td>\n      <td>...</td>\n      <td>-0.018307</td>\n      <td>0.277838</td>\n      <td>-0.110474</td>\n      <td>0.066928</td>\n      <td>0.128539</td>\n      <td>-0.189115</td>\n      <td>0.133558</td>\n      <td>-0.021053</td>\n      <td>149.62</td>\n      <td>0</td>\n    </tr>\n    <tr>\n      <th>1</th>\n      <td>0.0</td>\n      <td>1.191857</td>\n      <td>0.266151</td>\n      <td>0.166480</td>\n      <td>0.448154</td>\n      <td>0.060018</td>\n      <td>-0.082361</td>\n      <td>-0.078803</td>\n      <td>0.085102</td>\n      <td>-0.255425</td>\n      <td>...</td>\n      <td>-0.225775</td>\n      <td>-0.638672</td>\n      <td>0.101288</td>\n      <td>-0.339846</td>\n      <td>0.167170</td>\n      <td>0.125895</td>\n      <td>-0.008983</td>\n      <td>0.014724</td>\n      <td>2.69</td>\n      <td>0</td>\n    </tr>\n    <tr>\n      <th>2</th>\n      <td>1.0</td>\n      <td>-1.358354</td>\n      <td>-1.340163</td>\n      <td>1.773209</td>\n      <td>0.379780</td>\n      <td>-0.503198</td>\n      <td>1.800499</td>\n      <td>0.791461</td>\n      <td>0.247676</td>\n      <td>-1.514654</td>\n      <td>...</td>\n      <td>0.247998</td>\n      <td>0.771679</td>\n      <td>0.909412</td>\n      <td>-0.689281</td>\n      <td>-0.327642</td>\n      <td>-0.139097</td>\n      <td>-0.055353</td>\n      <td>-0.059752</td>\n      <td>378.66</td>\n      <td>0</td>\n    </tr>\n    <tr>\n      <th>3</th>\n      <td>1.0</td>\n      <td>-0.966272</td>\n      <td>-0.185226</td>\n      <td>1.792993</td>\n      <td>-0.863291</td>\n      <td>-0.010309</td>\n      <td>1.247203</td>\n      <td>0.237609</td>\n      <td>0.377436</td>\n      <td>-1.387024</td>\n      <td>...</td>\n      <td>-0.108300</td>\n      <td>0.005274</td>\n      <td>-0.190321</td>\n      <td>-1.175575</td>\n      <td>0.647376</td>\n      <td>-0.221929</td>\n      <td>0.062723</td>\n      <td>0.061458</td>\n      <td>123.50</td>\n      <td>0</td>\n    </tr>\n    <tr>\n      <th>4</th>\n      <td>2.0</td>\n      <td>-1.158233</td>\n      <td>0.877737</td>\n      <td>1.548718</td>\n      <td>0.403034</td>\n      <td>-0.407193</td>\n      <td>0.095921</td>\n      <td>0.592941</td>\n      <td>-0.270533</td>\n      <td>0.817739</td>\n      <td>...</td>\n      <td>-0.009431</td>\n      <td>0.798278</td>\n      <td>-0.137458</td>\n      <td>0.141267</td>\n      <td>-0.206010</td>\n      <td>0.502292</td>\n      <td>0.219422</td>\n      <td>0.215153</td>\n      <td>69.99</td>\n      <td>0</td>\n    </tr>\n  </tbody>\n</table>\n<p>5 rows × 31 columns</p>\n</div>"
     },
     "execution_count": 230,
     "metadata": {},
     "output_type": "execute_result"
    }
   ],
   "source": [
    "data.head()"
   ],
   "metadata": {
    "collapsed": false,
    "pycharm": {
     "name": "#%%\n"
    }
   }
  },
  {
   "cell_type": "code",
   "execution_count": 231,
   "outputs": [
    {
     "data": {
      "text/plain": "         Time      V1      V2      V3      V4      V5      V6      V7      V8  \\\nClass                                                                           \n0      284315  284315  284315  284315  284315  284315  284315  284315  284315   \n1         492     492     492     492     492     492     492     492     492   \n\n           V9  ...     V20     V21     V22     V23     V24     V25     V26  \\\nClass          ...                                                           \n0      284315  ...  284315  284315  284315  284315  284315  284315  284315   \n1         492  ...     492     492     492     492     492     492     492   \n\n          V27     V28  Amount  \nClass                          \n0      284315  284315  284315  \n1         492     492     492  \n\n[2 rows x 30 columns]",
      "text/html": "<div>\n<style scoped>\n    .dataframe tbody tr th:only-of-type {\n        vertical-align: middle;\n    }\n\n    .dataframe tbody tr th {\n        vertical-align: top;\n    }\n\n    .dataframe thead th {\n        text-align: right;\n    }\n</style>\n<table border=\"1\" class=\"dataframe\">\n  <thead>\n    <tr style=\"text-align: right;\">\n      <th></th>\n      <th>Time</th>\n      <th>V1</th>\n      <th>V2</th>\n      <th>V3</th>\n      <th>V4</th>\n      <th>V5</th>\n      <th>V6</th>\n      <th>V7</th>\n      <th>V8</th>\n      <th>V9</th>\n      <th>...</th>\n      <th>V20</th>\n      <th>V21</th>\n      <th>V22</th>\n      <th>V23</th>\n      <th>V24</th>\n      <th>V25</th>\n      <th>V26</th>\n      <th>V27</th>\n      <th>V28</th>\n      <th>Amount</th>\n    </tr>\n    <tr>\n      <th>Class</th>\n      <th></th>\n      <th></th>\n      <th></th>\n      <th></th>\n      <th></th>\n      <th></th>\n      <th></th>\n      <th></th>\n      <th></th>\n      <th></th>\n      <th></th>\n      <th></th>\n      <th></th>\n      <th></th>\n      <th></th>\n      <th></th>\n      <th></th>\n      <th></th>\n      <th></th>\n      <th></th>\n      <th></th>\n    </tr>\n  </thead>\n  <tbody>\n    <tr>\n      <th>0</th>\n      <td>284315</td>\n      <td>284315</td>\n      <td>284315</td>\n      <td>284315</td>\n      <td>284315</td>\n      <td>284315</td>\n      <td>284315</td>\n      <td>284315</td>\n      <td>284315</td>\n      <td>284315</td>\n      <td>...</td>\n      <td>284315</td>\n      <td>284315</td>\n      <td>284315</td>\n      <td>284315</td>\n      <td>284315</td>\n      <td>284315</td>\n      <td>284315</td>\n      <td>284315</td>\n      <td>284315</td>\n      <td>284315</td>\n    </tr>\n    <tr>\n      <th>1</th>\n      <td>492</td>\n      <td>492</td>\n      <td>492</td>\n      <td>492</td>\n      <td>492</td>\n      <td>492</td>\n      <td>492</td>\n      <td>492</td>\n      <td>492</td>\n      <td>492</td>\n      <td>...</td>\n      <td>492</td>\n      <td>492</td>\n      <td>492</td>\n      <td>492</td>\n      <td>492</td>\n      <td>492</td>\n      <td>492</td>\n      <td>492</td>\n      <td>492</td>\n      <td>492</td>\n    </tr>\n  </tbody>\n</table>\n<p>2 rows × 30 columns</p>\n</div>"
     },
     "execution_count": 231,
     "metadata": {},
     "output_type": "execute_result"
    }
   ],
   "source": [
    "data.groupby(['Class']).count()"
   ],
   "metadata": {
    "collapsed": false,
    "pycharm": {
     "name": "#%%\n"
    }
   }
  },
  {
   "cell_type": "code",
   "execution_count": 232,
   "outputs": [],
   "source": [
    "data = data.drop(['Time'], axis=1)\n",
    "data['Amount'] = StandardScaler().fit_transform(data['Amount'].values.reshape(-1, 1))"
   ],
   "metadata": {
    "collapsed": false,
    "pycharm": {
     "name": "#%%\n"
    }
   }
  },
  {
   "cell_type": "code",
   "execution_count": 233,
   "outputs": [
    {
     "data": {
      "text/plain": "(227845, 29)"
     },
     "execution_count": 233,
     "metadata": {},
     "output_type": "execute_result"
    }
   ],
   "source": [
    "X_train, X_test = train_test_split(data, test_size=0.2, random_state=0)\n",
    "y_train = X_train['Class']\n",
    "X_train = X_train.drop(['Class'], axis=1)\n",
    "y_test = X_test['Class']\n",
    "X_test = X_test.drop(['Class'], axis=1)\n",
    "X_train = X_train.values\n",
    "X_test = X_test.values\n",
    "X_train.shape"
   ],
   "metadata": {
    "collapsed": false,
    "pycharm": {
     "name": "#%%\n"
    }
   }
  },
  {
   "cell_type": "code",
   "execution_count": 234,
   "outputs": [],
   "source": [
    "from sklearn.svm import SVC\n",
    "import numpy as np\n",
    "import seaborn as sns\n",
    "from sklearn.metrics import confusion_matrix\n",
    "import pandas as pd"
   ],
   "metadata": {
    "collapsed": false,
    "pycharm": {
     "name": "#%%\n"
    }
   }
  },
  {
   "cell_type": "code",
   "execution_count": 262,
   "outputs": [
    {
     "name": "stdout",
     "output_type": "stream",
     "text": [
      "Model: \"sequential_25\"\n",
      "_________________________________________________________________\n",
      "Layer (type)                 Output Shape              Param #   \n",
      "=================================================================\n",
      "dense_103 (Dense)            (None, 100)               3000      \n",
      "_________________________________________________________________\n",
      "dense_104 (Dense)            (None, 50)                5050      \n",
      "_________________________________________________________________\n",
      "dense_105 (Dense)            (None, 50)                2550      \n",
      "_________________________________________________________________\n",
      "dense_106 (Dense)            (None, 29)                1479      \n",
      "=================================================================\n",
      "Total params: 12,079\n",
      "Trainable params: 12,079\n",
      "Non-trainable params: 0\n",
      "_________________________________________________________________\n"
     ]
    }
   ],
   "source": [
    "input_dim = X_train.shape[1]\n",
    "encoding_dim = 100\n",
    "\n",
    "model = Sequential()\n",
    "model.add(Dense(encoding_dim, activation=\"tanh\", input_shape=(input_dim,)))\n",
    "model.add(Dense(int(encoding_dim / 2), activation=\"relu\"))\n",
    "model.add(Dense(int(encoding_dim / 2), activation='tanh'))\n",
    "model.add(Dense(input_dim, activation='relu'))\n",
    "\n",
    "model.summary()"
   ],
   "metadata": {
    "collapsed": false,
    "pycharm": {
     "name": "#%%\n"
    }
   }
  },
  {
   "cell_type": "code",
   "execution_count": 263,
   "outputs": [],
   "source": [
    "early_stop = EarlyStopping(\n",
    "    monitor='val_acc',\n",
    "    patience=10,\n",
    "    mode='auto',\n",
    ")\n",
    "cache = \"saved_models/best_conf.ckpt\"\n",
    "checkpoint = ModelCheckpoint(cache,\n",
    "                             monitor='val_acc',\n",
    "                             verbose=1,\n",
    "                             save_best_only=True,\n",
    "                             save_weights_only=True,\n",
    "                             mode='max')"
   ],
   "metadata": {
    "collapsed": false,
    "pycharm": {
     "name": "#%%\n"
    }
   }
  },
  {
   "cell_type": "code",
   "execution_count": 264,
   "outputs": [
    {
     "name": "stdout",
     "output_type": "stream",
     "text": [
      "Epoch 1/30\n",
      "7121/7121 [==============================] - 16s 2ms/step - loss: 0.6235 - acc: 0.8910 - val_loss: 0.6198 - val_acc: 0.9363\n",
      "\n",
      "Epoch 00001: val_acc improved from -inf to 0.93629, saving model to saved_models\\best_conf.ckpt\n",
      "Epoch 2/30\n",
      "7121/7121 [==============================] - 16s 2ms/step - loss: 0.5993 - acc: 0.9282 - val_loss: 0.6171 - val_acc: 0.9306\n",
      "\n",
      "Epoch 00002: val_acc did not improve from 0.93629\n",
      "Epoch 3/30\n",
      "7121/7121 [==============================] - 16s 2ms/step - loss: 0.5973 - acc: 0.9320 - val_loss: 0.6125 - val_acc: 0.9469\n",
      "\n",
      "Epoch 00003: val_acc improved from 0.93629 to 0.94691, saving model to saved_models\\best_conf.ckpt\n",
      "Epoch 4/30\n",
      "7121/7121 [==============================] - 16s 2ms/step - loss: 0.5959 - acc: 0.9350 - val_loss: 0.6133 - val_acc: 0.9496\n",
      "\n",
      "Epoch 00004: val_acc improved from 0.94691 to 0.94958, saving model to saved_models\\best_conf.ckpt\n",
      "Epoch 5/30\n",
      "7121/7121 [==============================] - 16s 2ms/step - loss: 0.5955 - acc: 0.9355 - val_loss: 0.6116 - val_acc: 0.9482\n",
      "\n",
      "Epoch 00005: val_acc did not improve from 0.94958\n",
      "Epoch 6/30\n",
      "7121/7121 [==============================] - 18s 3ms/step - loss: 0.5949 - acc: 0.9354 - val_loss: 0.6167 - val_acc: 0.9350\n",
      "\n",
      "Epoch 00006: val_acc did not improve from 0.94958\n",
      "Epoch 7/30\n",
      "7121/7121 [==============================] - 19s 3ms/step - loss: 0.5941 - acc: 0.9377 - val_loss: 0.6102 - val_acc: 0.9545\n",
      "\n",
      "Epoch 00007: val_acc improved from 0.94958 to 0.95451, saving model to saved_models\\best_conf.ckpt\n",
      "Epoch 8/30\n",
      "7121/7121 [==============================] - 23s 3ms/step - loss: 0.5941 - acc: 0.9386 - val_loss: 0.6126 - val_acc: 0.9525\n",
      "\n",
      "Epoch 00008: val_acc did not improve from 0.95451\n",
      "Epoch 9/30\n",
      "7121/7121 [==============================] - 17s 2ms/step - loss: 0.5935 - acc: 0.9396 - val_loss: 0.6116 - val_acc: 0.9327\n",
      "\n",
      "Epoch 00009: val_acc did not improve from 0.95451\n",
      "Epoch 10/30\n",
      "7121/7121 [==============================] - 17s 2ms/step - loss: 0.5935 - acc: 0.9409 - val_loss: 0.6236 - val_acc: 0.9025\n",
      "\n",
      "Epoch 00010: val_acc did not improve from 0.95451\n",
      "Epoch 11/30\n",
      "7121/7121 [==============================] - 16s 2ms/step - loss: 0.5937 - acc: 0.9407 - val_loss: 0.6168 - val_acc: 0.9265\n",
      "\n",
      "Epoch 00011: val_acc did not improve from 0.95451\n",
      "Epoch 12/30\n",
      "7121/7121 [==============================] - 16s 2ms/step - loss: 0.5931 - acc: 0.9406 - val_loss: 0.6095 - val_acc: 0.9455\n",
      "\n",
      "Epoch 00012: val_acc did not improve from 0.95451\n",
      "Epoch 13/30\n",
      "7121/7121 [==============================] - 17s 2ms/step - loss: 0.5934 - acc: 0.9399 - val_loss: 0.6100 - val_acc: 0.9418\n",
      "\n",
      "Epoch 00013: val_acc did not improve from 0.95451\n",
      "Epoch 14/30\n",
      "7121/7121 [==============================] - 17s 2ms/step - loss: 0.5927 - acc: 0.9415 - val_loss: 0.6093 - val_acc: 0.9610\n",
      "\n",
      "Epoch 00014: val_acc improved from 0.95451 to 0.96099, saving model to saved_models\\best_conf.ckpt\n",
      "Epoch 15/30\n",
      "7121/7121 [==============================] - 16s 2ms/step - loss: 0.5926 - acc: 0.9435 - val_loss: 0.6116 - val_acc: 0.9352\n",
      "\n",
      "Epoch 00015: val_acc did not improve from 0.96099\n",
      "Epoch 16/30\n",
      "7121/7121 [==============================] - 19s 3ms/step - loss: 0.5930 - acc: 0.9418 - val_loss: 0.6084 - val_acc: 0.9620\n",
      "\n",
      "Epoch 00016: val_acc improved from 0.96099 to 0.96203, saving model to saved_models\\best_conf.ckpt\n",
      "Epoch 17/30\n",
      "7121/7121 [==============================] - 18s 3ms/step - loss: 0.5922 - acc: 0.9438 - val_loss: 0.6087 - val_acc: 0.9552\n",
      "\n",
      "Epoch 00017: val_acc did not improve from 0.96203\n",
      "Epoch 18/30\n",
      "7121/7121 [==============================] - 16s 2ms/step - loss: 0.5920 - acc: 0.9444 - val_loss: 0.6112 - val_acc: 0.9373\n",
      "\n",
      "Epoch 00018: val_acc did not improve from 0.96203\n",
      "Epoch 19/30\n",
      "7121/7121 [==============================] - 17s 2ms/step - loss: 0.5933 - acc: 0.9427 - val_loss: 0.6107 - val_acc: 0.9555\n",
      "\n",
      "Epoch 00019: val_acc did not improve from 0.96203\n",
      "Epoch 20/30\n",
      "7121/7121 [==============================] - 18s 3ms/step - loss: 0.5926 - acc: 0.9442 - val_loss: 0.6088 - val_acc: 0.9355\n",
      "\n",
      "Epoch 00020: val_acc did not improve from 0.96203\n",
      "Epoch 21/30\n",
      "7121/7121 [==============================] - 17s 2ms/step - loss: 0.5920 - acc: 0.9456 - val_loss: 0.6177 - val_acc: 0.9113\n",
      "\n",
      "Epoch 00021: val_acc did not improve from 0.96203\n",
      "Epoch 22/30\n",
      "7121/7121 [==============================] - 17s 2ms/step - loss: 0.5918 - acc: 0.9461 - val_loss: 0.6176 - val_acc: 0.9046\n",
      "\n",
      "Epoch 00022: val_acc did not improve from 0.96203\n",
      "Epoch 23/30\n",
      "7121/7121 [==============================] - 16s 2ms/step - loss: 0.5923 - acc: 0.9435 - val_loss: 0.6112 - val_acc: 0.9425\n",
      "\n",
      "Epoch 00023: val_acc did not improve from 0.96203\n",
      "Epoch 24/30\n",
      "7121/7121 [==============================] - 19s 3ms/step - loss: 0.5924 - acc: 0.9425 - val_loss: 0.6115 - val_acc: 0.9337\n",
      "\n",
      "Epoch 00024: val_acc did not improve from 0.96203\n",
      "Epoch 25/30\n",
      "7121/7121 [==============================] - 17s 2ms/step - loss: 0.5918 - acc: 0.9459 - val_loss: 0.6183 - val_acc: 0.9294\n",
      "\n",
      "Epoch 00025: val_acc did not improve from 0.96203\n",
      "Epoch 26/30\n",
      "7121/7121 [==============================] - 16s 2ms/step - loss: 0.5917 - acc: 0.9454 - val_loss: 0.6117 - val_acc: 0.9592\n",
      "\n",
      "Epoch 00026: val_acc did not improve from 0.96203\n"
     ]
    }
   ],
   "source": [
    "nb_epoch = 30\n",
    "batch_size = 32\n",
    "\n",
    "model.compile(optimizer='adam', loss='mean_squared_error', metrics=['acc'])\n",
    "\n",
    "history = model.fit(X_train, X_train,\n",
    "                    epochs=nb_epoch,\n",
    "                    batch_size=batch_size,\n",
    "                    validation_data=(X_test, X_test),\n",
    "                    verbose=1,\n",
    "                    callbacks=[checkpoint, early_stop])\n",
    "\n",
    "autoencoder = model"
   ],
   "metadata": {
    "collapsed": false,
    "pycharm": {
     "name": "#%%\n"
    }
   }
  },
  {
   "cell_type": "code",
   "execution_count": 265,
   "outputs": [
    {
     "data": {
      "text/plain": "<tensorflow.python.training.tracking.util.CheckpointLoadStatus at 0x27fb76d2880>"
     },
     "execution_count": 265,
     "metadata": {},
     "output_type": "execute_result"
    }
   ],
   "source": [
    "model.load_weights(\"saved_models/best_conf.ckpt\")"
   ],
   "metadata": {
    "collapsed": false,
    "pycharm": {
     "name": "#%%\n"
    }
   }
  },
  {
   "cell_type": "code",
   "execution_count": 266,
   "outputs": [
    {
     "data": {
      "text/plain": "<Figure size 432x288 with 1 Axes>",
      "image/png": "[encoded data removed]"
     },
     "metadata": {
      "needs_background": "light"
     },
     "output_type": "display_data"
    }
   ],
   "source": [
    "# summarize history for accuracy\n",
    "plt.plot(history.history['acc'])\n",
    "plt.plot(history.history['val_acc'])\n",
    "plt.title('Model accuracy')\n",
    "plt.ylabel('Accuracy')\n",
    "plt.xlabel('Epoch')\n",
    "plt.legend(['Train', 'Test'], loc='upper left')\n",
    "plt.show()"
   ],
   "metadata": {
    "collapsed": false,
    "pycharm": {
     "name": "#%%\n"
    }
   }
  },
  {
   "cell_type": "code",
   "execution_count": 267,
   "outputs": [],
   "source": [
    "predictions = autoencoder.predict(X_test)\n",
    "mse = np.mean(np.power(X_test - predictions, 2), axis=1)\n",
    "error_df = pd.DataFrame({'reconstruction_error': mse, 'true_class': y_test})"
   ],
   "metadata": {
    "collapsed": false,
    "pycharm": {
     "name": "#%%\n"
    }
   }
  },
  {
   "cell_type": "code",
   "execution_count": 268,
   "outputs": [
    {
     "data": {
      "text/plain": "        reconstruction_error  true_class\n183484              0.281532           0\n255448              0.210143           0\n244749              0.931209           0\n63919               0.402556           0\n11475               0.617307           0",
      "text/html": "<div>\n<style scoped>\n    .dataframe tbody tr th:only-of-type {\n        vertical-align: middle;\n    }\n\n    .dataframe tbody tr th {\n        vertical-align: top;\n    }\n\n    .dataframe thead th {\n        text-align: right;\n    }\n</style>\n<table border=\"1\" class=\"dataframe\">\n  <thead>\n    <tr style=\"text-align: right;\">\n      <th></th>\n      <th>reconstruction_error</th>\n      <th>true_class</th>\n    </tr>\n  </thead>\n  <tbody>\n    <tr>\n      <th>183484</th>\n      <td>0.281532</td>\n      <td>0</td>\n    </tr>\n    <tr>\n      <th>255448</th>\n      <td>0.210143</td>\n      <td>0</td>\n    </tr>\n    <tr>\n      <th>244749</th>\n      <td>0.931209</td>\n      <td>0</td>\n    </tr>\n    <tr>\n      <th>63919</th>\n      <td>0.402556</td>\n      <td>0</td>\n    </tr>\n    <tr>\n      <th>11475</th>\n      <td>0.617307</td>\n      <td>0</td>\n    </tr>\n  </tbody>\n</table>\n</div>"
     },
     "execution_count": 268,
     "metadata": {},
     "output_type": "execute_result"
    }
   ],
   "source": [
    "error_df.head()"
   ],
   "metadata": {
    "collapsed": false,
    "pycharm": {
     "name": "#%%\n"
    }
   }
  },
  {
   "cell_type": "code",
   "execution_count": 297,
   "outputs": [
    {
     "data": {
      "text/plain": "<Figure size 864x576 with 1 Axes>",
      "image/png": "[encoded data removed]"
     },
     "metadata": {
      "needs_background": "light"
     },
     "output_type": "display_data"
    }
   ],
   "source": [
    "threshold = 2.0\n",
    "\n",
    "groups = error_df.groupby('true_class')\n",
    "fig, ax = plt.subplots(figsize=(12, 8))\n",
    "\n",
    "for name, group in groups:\n",
    "    ax.plot(group.index, group.reconstruction_error, marker='o', ms=2.0, linestyle='',\n",
    "            label = \"Fraud\" if name == 1 else \"Normal\",\n",
    "            color = \"red\" if name == 1 else \"blue\")\n",
    "ax.hlines(threshold, ax.get_xlim()[0], ax.get_xlim()[1], colors=\"green\", zorder=100, label='Threshold')\n",
    "ax.legend()\n",
    "plt.title(\"Reconstruction error for different classes\")\n",
    "plt.ylabel(\"Reconstruction error\")\n",
    "plt.xlabel(\"Data point index\")\n",
    "plt.show()"
   ],
   "metadata": {
    "collapsed": false,
    "pycharm": {
     "name": "#%%\n"
    }
   }
  },
  {
   "cell_type": "code",
   "execution_count": 298,
   "outputs": [
    {
     "name": "stdout",
     "output_type": "stream",
     "text": [
      "Normal transactions: 56861, fraud transactions: 101\n"
     ]
    }
   ],
   "source": [
    "normal = error_df[error_df.true_class == 0]\n",
    "fraud = error_df[error_df.true_class == 1]\n",
    "\n",
    "print('Normal transactions: %d, fraud transactions: %d' % (len(normal), len(fraud)))"
   ],
   "metadata": {
    "collapsed": false,
    "pycharm": {
     "name": "#%%\n"
    }
   }
  },
  {
   "cell_type": "code",
   "execution_count": 299,
   "outputs": [
    {
     "name": "stdout",
     "output_type": "stream",
     "text": [
      "True positives: 86, true negatives: 55328\n",
      "False positives: 1533, false negatives: 15\n"
     ]
    }
   ],
   "source": [
    "true_positives = len(fraud[fraud.reconstruction_error >= threshold])\n",
    "false_positives = len(normal[normal.reconstruction_error >= threshold])\n",
    "\n",
    "true_negatives = len(normal[normal.reconstruction_error < threshold])\n",
    "false_negatives = len(fraud[fraud.reconstruction_error < threshold])\n",
    "\n",
    "print('True positives: %d, true negatives: %d' % (true_positives, true_negatives))\n",
    "print('False positives: %d, false negatives: %d' % (false_positives, false_negatives))"
   ],
   "metadata": {
    "collapsed": false,
    "pycharm": {
     "name": "#%%\n"
    }
   }
  },
  {
   "cell_type": "code",
   "execution_count": 300,
   "outputs": [
    {
     "data": {
      "text/plain": "<Figure size 432x360 with 2 Axes>",
      "image/png": "[encoded data removed]"
     },
     "metadata": {
      "needs_background": "light"
     },
     "output_type": "display_data"
    }
   ],
   "source": [
    "labels = [\"Normal\", \"Fraud\"]\n",
    "\n",
    "y_pred = [1 if e > threshold else 0 for e in error_df.reconstruction_error.values]\n",
    "conf_matrix = confusion_matrix(error_df.true_class, y_pred)\n",
    "\n",
    "plt.figure(figsize=(6, 5))\n",
    "sns.heatmap(conf_matrix, xticklabels=labels, yticklabels=labels, annot=True, fmt=\"d\");\n",
    "plt.title(\"Confusion matrix\")\n",
    "plt.ylabel('True class')\n",
    "plt.xlabel('Predicted class')\n",
    "plt.show()"
   ],
   "metadata": {
    "collapsed": false,
    "pycharm": {
     "name": "#%%\n"
    }
   }
  },
  {
   "cell_type": "code",
   "execution_count": null,
   "outputs": [],
   "source": [],
   "metadata": {
    "collapsed": false,
    "pycharm": {
     "name": "#%%\n"
    }
   }
  }
 ],
 "metadata": {
  "kernelspec": {
   "display_name": "Python 3 (ipykernel)",
   "language": "python",
   "name": "python3"
  },
  "language_info": {
   "codemirror_mode": {
    "name": "ipython",
    "version": 3
   },
   "file_extension": ".py",
   "mimetype": "text/x-python",
   "name": "python",
   "nbconvert_exporter": "python",
   "pygments_lexer": "ipython3",
   "version": "3.9.7"
  }
 },
 "nbformat": 4,
 "nbformat_minor": 5
}